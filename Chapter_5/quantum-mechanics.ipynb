{
 "cells": [
  {
   "cell_type": "markdown",
   "metadata": {},
   "source": [
    "# Wave and Quantum Mechanics\n"
   ]
  },
  {
   "cell_type": "markdown",
   "metadata": {},
   "source": [
    "## X-Ray Scattering\n",
    "R&ouml;ntgen's discovery of x-rays excited efforts to determine the nature and origin of the new *penetrating* radiation. in the early 1900s, [Charles Barkla](https://en.wikipedia.org/wiki/Charles_Glover_Barkla) discovered that each elements x-rays of characteristic wavelengths and that x-rays exhibit properties of polarization.\n",
    "\n",
    "It became clear that x-rays had wave properties and were a form of EM radiation.  X-ray wavelengths are much shorter than those of visible light, which made it difficult to refract or diffract them like earlier experiments with visible light. Wien and Sommerfeld had estimated the wavelength of an x-ray to be $0.01-0.1\\ {\\rm nm}$.  Knowing the distance between atoms in a crystal ($\\sim 0.1\\ {\\rm nm}$), [Max von Laue](https://en.wikipedia.org/wiki/Max_von_Laue) made the suggestion that x-rays should scatter from the atoms of crystals.  He proposed that if x-rays were a form of EM radiation, then interference effects should be observed.  Furthermore, he identified that crystals might act as three-dimensional gratings that could scatter thew waves and produce the observable interference effects.\n",
    "\n",
    "```{note}\n",
    "From the study of optics, we know that wave properties are most easily demonstrated when the sizes of apertures or obstructions are on the same order as the wavelength of light.  We use gratings in optics to separate light by diffraction into different wavelengths.\n",
    "```\n",
    "\n",
    "```{figure-md} vonLaue-schematic-fig\n",
    "<img src=\"https://physicsopenlab.org/wp-content/uploads/2018/01/laueSetup.jpg\" alt=\"vonLaue-schematic\"  width=\"400px\">\n",
    "\n",
    "Image credit: [PhysicsOpenLab](https://physicsopenlab.org/2018/01/18/laue-diffraction/)\n",
    "```\n",
    "\n",
    "```{figure-md} salt-crystal-fig\n",
    "<img src=\"https://physicsopenlab.org/wp-content/uploads/2018/02/NaCl7.png\" alt=\"salt crystal\"  width=\"400px\">\n",
    "\n",
    "The Laue diagram of a NaCl (100) single crystal with a face-center cubic crystal lattice (fcc). Image credit: [PhysicsOpenLab](https://physicsopenlab.org/2018/01/18/laue-diffraction/)\n",
    "```\n",
    "\n",
    "von Laue designed an experiment to perform a test his hypothesis.  He convinced his assistants (Walter Friedrich and Paul Knipping) to perform the measurement.  When they rotated the crystals, the positions and intensities of the diffraction were shown to change.  Though the purposed of von Laue's experiment was to prove the wave nature of x-rays, he demonstrated the lattice structure of crystals too.  The lattice structure of crystals led to the origin of solid-state physics and the development of modern electronics.\n",
    "\n",
    "[William Henry Bragg](https://en.wikipedia.org/wiki/William_Henry_Bragg) and his son, [William Lawrence Bragg](https://en.wikipedia.org/wiki/Lawrence_Bragg), fully exploited the wave nature of x-rays and simplified von Laue's analysis.  Bragg (the son) pointed out that each of the images surrounding the bright central spot of von Laue's photographs could be the reflection of the incident x-ray beam from a unique set of atoms within the crystal.  Each dot in the pattern corresponds to different ste of planes in the crystal.\n",
    "\n",
    "*Is x-ray scattering from atoms within crystals consistent with what we know from classical physics?*  From classical EM theory, we know that the oscillating electric field polarizes an atom.  The result is an asymmetric chared distribution, or electric dipole.  An electric dipole that oscillates at same frequency as the incident wave will in turn re-radiate EM radiation at the same frequency in the form of spherical waves.  The spherical waves travel through the crystal, constructively or destructively interfering as the waves pass through different directions in the crystal.\n",
    "\n",
    "```{figure-md} bragg-planes-fig\n",
    "<img src=\"https://openstax.org/apps/archive/20220422.171947/resources/0b1d4462477af746a008a810fc327a6cc054a786\" alt=\"bragg planes\"  width=\"400px\">\n",
    "\n",
    "The crystal structure of $\\rm NaCl$ (rock salt) showing two of the possible sets of Bragg planes. Image credit: [OpenStax: University Physics Vol 3](https://openstax.org/books/university-physics-volume-3/pages/4-6-x-ray-diffraction)\n",
    "```\n",
    "\n",
    "**Consider x-rays scattered from a rock salt crystal ($\\rm NaCl$).**  Through Bragg's simplification, we can determine the conditions necessary for constructive interference.  Lattice planes (or **Bragg planes**) exist within the crystal structure of $\\rm NaCl$, where an incident plane wave (of wavelength $\\lambda$) can scatter from two adjacent planes.  There are tow conditions for constructive interference of the x-rays:\n",
    "\n",
    "1. The angle of incidence must equal the angle of reflection of the outgoing wave (i.e., from optics).\n",
    "2. The difference in path lengths $(2d\\sin \\theta)$ must be an integral number of wavelengths.\n",
    "\n",
    "Condition 2 is known as **Bragg's law** and can be written mathematically by\n",
    "\n",
    "```{math}\n",
    ":label: Braggs_law\n",
    "n\\lambda = 2d \\sin \\theta, \\quad (n= \\text{integer}),\n",
    "```\n",
    "\n",
    "which depends on the distance $d$ between lattice planes (or interatomic spacing).  The integer $n$ is called the *order of reflection*, following from the terminology of ruled diffraction gratings in optics.  \n",
    "\n",
    "```{figure-md} scattering-schematic-fig\n",
    "<img src=\"https://openstax.org/apps/archive/20220422.171947/resources/1bfd3daa012e6eb87d9fa885f8255dfc69c47682\" alt=\"scattering schematic\"  width=\"400px\">\n",
    "\n",
    "X-ray diffraction with a crystal. Two incident waves reflect off two planes of a crystal. The difference in path lengths is indicated by the dashed line. Figure credit: [OpenStax: University Physics Vol 3](https://openstax.org/books/university-physics-volume-3/pages/4-6-x-ray-diffraction)\n",
    "```\n",
    "\n",
    "Bragg's law is useful for determining either the wavelength $\\lambda$ of the x-rays or the interplanar spacing $d$ (if $\\lambda$ is known).  The Braggs (father and son) shared the 1915 Nobel Prize.  A *Bragg spectrometer* measures how x-rays are scattered in a crystal, where the intensity of the diffracted beam is determined as a function of the scattering angle by rotating the crystal and detector. \n",
    "\n",
    "```{figure-md} Bragg-spectrometer-fig\n",
    "<img src=\"braggspec.png\" alt=\"Bragg spectrometer\"  width=\"400px\">\n",
    "\n",
    "Schematic of a Bragg spectrometer.  X-rays are produced by electron bombardment of a metal target within the x-ray tube.  The x-rays are collimated by lead, scatter from a crystal, and are detected as a function of the angle $2\\theta$. Image credit: [Hyperphysics](http://hyperphysics.phy-astr.gsu.edu/hbase/quantum/bragg.html)\n",
    "```\n",
    "\n",
    "von Laue diffraction is primarily used to determine the orientation of *single* crystals by mounting large crystals in a precisely known orientation.  White light (i.e., light containing many colors) is projected parallel to a high symmetry direction of the crystal, where arrays of interference maxima spots are produced to indicate a particular plane in the crystal.  Bragg and von Laue x-ray diffraction techniques tell su almost everything we know about the structures of solids liquids and even DNA.\n",
    "\n",
    "Small crystals can be ground into a powdered form, where the small crystals will then have random orientations.  When a beam of x-rays passes through the powder, the interference maxima appear as a series of rings.  This process is called **powder x-ray diffraction** (XRD) and is widely used (in [crystallography](https://en.wikipedia.org/wiki/Crystallography)) to determine the structure of unknown solids."
   ]
  },
  {
   "cell_type": "markdown",
   "metadata": {},
   "source": [
    "```{admonition} *Example Problem*\n",
    "**X-rays scattered from rock salt $(\\rm NaCl)$ are observed to have an intense maximum at an angle of $20^\\circ$ from the incident direction.  Assuming $n=1$ (from the intensity), what must be the wavelength of the incident direction?**\n",
    "\n",
    "To find $\\lambda$, we can use *Bragg's law* (Eqn. {eq}`Braggs_law`).  We need to know the lattice spacing $d$ and the angle $\\theta$.  The angle for the maximum intensity corresponds to the angle needed for *constructive* interference, which is always $2\\theta$.  Therefore, we have $\\theta = 10^\\circ$.  The density $\\rho$ of [$\\rm NaCl$ ](https://en.wikipedia.org/wiki/Sodium_chloride) is $2.16\\ {\\rm g/cm^3}$ and its molar mass $M$ is $58.5\\ {\\rm g/mol}$.  These values are needed to find the lattice spacing $d$, where the relation to Avogadro's number $N_A$ to number density was shown in Section {numref}`{number}<atomic_models>`.  The number density of $\\rm NaCl$ is\n",
    "\n",
    "\\begin{align*}\n",
    "\\frac{N_A\\rho}{M} &= \\frac{(6.02 \\times 10^{23}\\ {\\rm molecules/mol})(2.16\\ {\\rm g/cm^3})}{58.5\\ {\\rm g/mol}}, \\\\\n",
    "&= 2.22 \\times 10^{22}\\ \\frac{\\rm molecules}{\\rm cm^3} = 4.45 \\times 10^{22}\\ \\frac{\\rm atoms}{\\rm cm^3}, \\\\\n",
    "& = 4.45 \\times 10^{28}\\ \\frac{\\rm atoms}{\\rm m^3}.\n",
    "\\end{align*}\n",
    "\n",
    "Since $\\rm NaCl$ has a cubic array, we take $d$ as the lattice spacing, where\n",
    "\n",
    "$$ d = (4.45 \\times 10^{28}\\ \\frac{\\rm atoms}{\\rm m^3})^{-1/3} = 2.82 \\times 10^{-10}\\ {\\rm m} = 0.282\\ {\\rm nm}. $$\n",
    "\n",
    "This technique for calculating lattice spacing works only for a few cases because of the variety of crystal structures (many of which are noncubic).  Now, we can use Bragg's law to find $\\lambda$ (with $n=1$) as\n",
    "\n",
    "$$ \\lambda = \\frac{2d \\sin \\theta}{n} = 2(0.282\\ {\\rm nm}) \\sin 10^\\circ = 0.098\\ {\\rm nm}, $$\n",
    "\n",
    "which is a typical x-ray wavelength.  $\\rm NaCl$ is a useful crystal for determining x-ray wavelengths and for calibrating an experimental apparatus.\n",
    "\n",
    "```"
   ]
  },
  {
   "cell_type": "markdown",
   "metadata": {},
   "source": [
    "## De Broglie Waves\n",
    "By 1920 it was clear that x-rays exhibited wave properties, where x-ray crystallography could be used to study the crystalline structure of atoms and molecules.  A detailed understanding of the atom was not yet proposed, where a more general theory was necessary to replace the Bohr model of the atom.  A first step was made by [Prince Louis deBroglie](https://en.wikipedia.org/wiki/Louis_de_Broglie), who was well versed in the work of Planck, Einstein, and Bohr.  De Broglie was struck by how photons (EM radiation) had both wave (e.g., crystallography) and particle (e.g., photoelectric effect) properties.  If electromagnetic radiation must have *both wave and particle properties*, they material particles should have both wave and particle properties as well.  According to de Broglie, *the symmetry of nature encourages such an idea, and no laws of physics prohibit it.*\n",
    "\n",
    "De Broglie presented his new hypothesis within his doctoral thesis to the University of Paris in 1924, where it aroused both interest and skepticism.  De Broglie combined the special theory of relativity with quantum theory to establish the wave properties of particles.  He predicted a relationship between the wavelength $\\lambda$ and momentum $p$ for a particle as\n",
    "\n",
    "\\begin{align}\n",
    "\\lambda = \\frac{h}{p}.\n",
    "\\end{align}\n",
    "\n",
    "De Broglie was guided by the concepts of phase and group velocities of waves.  Recall that photons have energy through momentum $E= pc$ and with a frequency $E=hf$, so that\n",
    "\n",
    "\\begin{align}\n",
    "hf &= pc = p\\lambda f,\\\\\n",
    "h &= p\\lambda, \\\\\n",
    "\\lambda &= \\frac{h}{p}.\n",
    "\\end{align}\n",
    "\n",
    "De Broglie extended his relation for photons to *all* particles.  Particle (or **matter**) waves have a momentum and act as a particle through a wavelength called the **de Broglie wavelength**.\n",
    "\n",
    "*How do we show whether an object can exhibit wavelike properties?*  The best way is to pass them through a slit that has a width of a similar dimension as the object's wavelength.  It is virtually impossible for a tennis ball to demonstrated interference or diffraction because its wavelength is $\\sim 10^{-34}\\ {\\rm m}$.  But the de Broglie wavelength of a $50\\ {\\rm eV}$ electron is about $0.2\\ {\\rm nm}$, which is large enough that we can demonstrate its wave properties.  Because of their small mass, electrons can have a small momentum and in turn a large wavelength $(\\lambda = h/p)$.\n",
    "\n",
    "```{admonition} *Example Problem*\n",
    "**Calculate the de Broglie wavelength of a (a) tennis ball ($m = 57\\ {\\rm g}$) traveling $25\\ {\\rm m/s}$ and (b) $50\\ {\\rm eV}$ electron.**\n",
    "\n",
    "**(a)** For the tennis ball, we need to calculate its momentum $p=mv$ and substitute into\n",
    "\n",
    "$$ \\lambda = \\frac{h}{p} = \\frac{6.6261 \\times 10^{-34}\\ {\\rm J\\cdot s}}{(0.057\\ {\\rm kg})(25\\ {\\rm m/s})} = 4.7 \\times 10^{-34}\\ {\\rm m}. $$\n",
    "\n",
    "**(b)** For the electron, we need to calculate its momentum in terms of the the kinetic energy $K$ (i.e., $p=\\sqrt{2mK}$).  The kinetic energy can be converted from $\\rm eV$ to $J$ or the rest mass can be converted from $\\rm kg$ to $\\rm eV$.  Both methods give the same result.  The de Broglie wavelength is calculated as\n",
    "\n",
    "\\begin{align*}\n",
    "\\lambda &= \\frac{h}{\\sqrt{2m_eK}}, \\\\\n",
    "&= \\frac{6.6261 \\times 10^{-23}\\ {\\rm J\\cdot s}}{\\sqrt{2(9.109 \\times 10^{-31}\\ {\\rm kg})(50\\ {\\rm eV})((1.602 \\times 10^{-19}\\ {\\rm J/eV}))}} = 1.7 \\times 10^{-10}\\ {\\rm m}, \\\\\n",
    "&= \\frac{hc}{\\sqrt{2(m_ec^2)K)}} = \\frac{1.2398 \\times 10^{-6}\\ {\\rm eV\\cdot m }}{\\sqrt{2(5.11\\times 10^6\\ {\\rm eV}(50\\ {\\rm eV}))}} = 1.7 \\times 10^{-10}\\ {\\rm m}, \\\\\n",
    "&= 0.17\\ {\\rm nm}.\n",
    "\\end{align*}\n",
    "\n",
    "```"
   ]
  },
  {
   "cell_type": "code",
   "execution_count": 3,
   "metadata": {},
   "outputs": [
    {
     "name": "stdout",
     "output_type": "stream",
     "text": [
      "The de Broglie wavelength of the tennis ball is 4.65e-34 m.\n",
      "\n",
      "The de Broglie wavelength of the electron (using kg and J) is 1.73e-10 m.\n",
      "\n",
      "The de Broglie wavelength of the electron (eV) is 1.73e-10 m.\n",
      "\n"
     ]
    }
   ],
   "source": [
    "from scipy.constants import h,c,e,m_e,eV,physical_constants\n",
    "import numpy as np\n",
    "\n",
    "def deBroglie_wave(p,unit):\n",
    "    #calculate the de Broglie wavelength\n",
    "    if unit == 'kg':\n",
    "        return h/p\n",
    "    else:\n",
    "        return hc/p #using units of eV for mass; need hc in eV*m\n",
    "\n",
    "m_tb = 0.057 #mass of tennis ball in kg\n",
    "v_tb = 25 #speed of tennis ball in m/s\n",
    "\n",
    "hc = h*c/eV\n",
    "me_eV = physical_constants['electron mass energy equivalent'][0]/eV\n",
    "K_eV = 50 #kinetic energy of electron in eV\n",
    "K_J = 50*eV #kinetic energy of electron in J\n",
    "\n",
    "#part a\n",
    "l_tb = deBroglie_wave(m_tb*v_tb,'kg')\n",
    "print(\"The de Broglie wavelength of the tennis ball is %1.2e m.\\n\" % (l_tb))\n",
    "\n",
    "#part b\n",
    "l_e = deBroglie_wave(np.sqrt(2*m_e*K_J),'kg')\n",
    "print(\"The de Broglie wavelength of the electron (using kg and J) is %1.2e m.\\n\" % l_e)\n",
    "\n",
    "l_e = deBroglie_wave(np.sqrt(2*me_eV*K_eV),'eV')\n",
    "print(\"The de Broglie wavelength of the electron (eV) is %1.2e m.\\n\" % l_e)"
   ]
  },
  {
   "cell_type": "markdown",
   "metadata": {},
   "source": [
    "### Bohr's Quantization Condition\n",
    "In the hydrogen atom model, Bohr assumed that the electron's angular momentum is quantified through an integral multiple of $\\hbar$. De Broglie comes to the same assumption by representing the electron as a *standing wave* in an orbit around the proton.  The condition for a standing wave is that the entire length of the wave mus fit within the orbit's circumference (i.e., standing waves in a closed pipe).  For a standing wave, we must have\n",
    "\n",
    "$$ n\\lambda = 2\\pi r, $$\n",
    "\n",
    "given the radius of the orbit $r$.  Using the de Broglie relation for the wavelength, we produce\n",
    "\n",
    "$$ n\\lambda = 2\\pi r  = n\\frac{h}{p}. $$\n",
    "\n",
    "The angular momentum of the electron in this orbit is $L=mvr=rp$, and then we have\n",
    "\n",
    "$$ L = rp = \\frac{nh}{2\\pi} = n\\hbar. $$\n",
    "\n",
    "This is Bohr's quantization assumption generated by applying de Broglie's wavelength for an electron in a standing wave.  This result appears to justify Bohr's assumption."
   ]
  },
  {
   "cell_type": "markdown",
   "metadata": {},
   "source": [
    "## Electron Scattering\n",
    "In 1925, [Clinton Davisson](https://en.wikipedia.org/wiki/Clinton_Davisson) and [Lester Germer](https://en.wikipedia.org/wiki/Lester_Germer) were investigating the properties of metallic surfaces by scattering electrons from various materials when a liquid air bottle exploded near their apparatus.  The nickel target was at a high temperature at the time of the accident, and the breakage of their vacuum system caused significant oxidation of the nickel.  After repairing their apparatus, Davisson and Germer found a striking change in the way electrons were scattering from the nickel surface.  Previously, they measured a smooth variation of intensity with scattering angle, but the new data showed large numbers of scattered electrons for certain energies at a given scattering angle.\n",
    "\n",
    "Davisson and Germer found that the high temperature had modified the polycrystalline structure of the nickel.  The many small crystals of the original target were changed into a few large crystals as a result of the heat treatment.  Davisson deduced that it was the new arrangement of the nickel atoms that had caused the new intensity distributions.  The electrons were diffracted much like x-rays, and Davisson found that Bragg's law applied to their data.  Davisson and Germer varied both the scattering angles (for a given wavelength) and the wavelength (for a given angle).  In Bragg's law the angle between the incident and scattered beams is $2\\theta$, where Davisson and Germer found the angle between the incident and scattered beams as $\\phi =2\\alpha$.  The angle $\\theta$ from Bragg's law is different from $\\alpha$ by $90^\\circ$ (i.e., $\\theta -\\alpha = \\pi/2$).  We can then show from [trigonometric identities](https://en.wikipedia.org/wiki/List_of_trigonometric_identities) that\n",
    "\n",
    "$$ \\sin \\theta = \\sin \\left(\\frac{\\pi}{2}-\\alpha\\right) = \\cos \\alpha. $$\n",
    "\n",
    "This allows us to rewrite the Bragg condition as\n",
    "\n",
    "$$ n\\lambda = 2d \\sin \\theta = 2d \\cos \\alpha. $$\n",
    "\n",
    "Bragg's law is written in terms of the the lattice plane spacing $d$, where we want to know the interatomic distance $D$ and have the relation $d= D\\sin \\alpha$.  Applying to Bragg's law, we find\n",
    "\n",
    "\\begin{align}\n",
    "n\\lambda &= 2d\\cos\\alpha = 2D \\sin \\alpha \\cos \\alpha, \\\\\n",
    "&= D\\sin 2\\alpha = D\\sin \\phi.\n",
    "\\end{align}\n",
    "\n",
    "For nickel the interatomic distance is $D=0.215\\ {\\rm nm}$.  Davisson and Germer found an electron scattering peak at $\\phi = 50^\\circ$, then the electron wavelength should be $\\lambda = (0.215\\ {\\rm nm})\\sin 50^\\circ = 0.165\\ {\\rm nm}$.\n",
    "\n",
    "Shortly after Davisson and Germer reported their experiment, many others showed the effects of electron diffraction in transmission experiments.  The targets were varied including [celluloid](https://en.wikipedia.org/wiki/Celluloid), gold, aluminum, and platinum.  Davisson and [George Thomson](https://en.wikipedia.org/wiki/George_Paget_Thomson) received the Nobel Prize in 1937, which clearly showed that particles exhibit wave properties.\n",
    "\n",
    "```{admonition} *Example Problem*\n",
    "**Assuming that the de Broglie wavelength of the electron is $0.165\\ {\\rm nm}$ from the Davisson and Gerber experiment.  What is the kinetic energy of the electron in eV?**\n",
    "\n",
    "Using the equation for the de Broglie wavelength, we can find the momentum $p$ of the electron by\n",
    "\n",
    "$$ p = \\frac{h}{\\lambda} = \\frac{6.6261 \\times 10^{-34}\\ {\\rm J\\cdot s}}{1.65 \\times 10^{-10}\\ {\\rm m}} = 4.02 \\times 10^{-24}\\ {\\rm J\\cdot m/s}.$$\n",
    "\n",
    "The kinetic energy can be written in terms of the momentum by\n",
    "\n",
    "\\begin{align*} \n",
    "\\text{K.E.} &= \\frac{p^2}{2m_e},\n",
    " &= \\frac{(4.02 \\times 10^{-24}\\ {\\rm J\\cdot m/s})^2}{2(9.109 \\times 10^{-31}\\ {\\rm kg})}, \\\\\n",
    " &= 8.85 \\times 10^{-18}\\ {\\rm J}\n",
    " &= 55.2\\ {\\rm eV}.\n",
    "\\end{align*}\n",
    "\n",
    "Davisson and Germer used $54\\ {\\rm eV}$ electrons, which shows that massive particles can behave like waves.\n",
    "```"
   ]
  },
  {
   "cell_type": "markdown",
   "metadata": {},
   "source": [
    "## Wave Motion"
   ]
  },
  {
   "cell_type": "markdown",
   "metadata": {},
   "source": [
    "## Waves or Particles"
   ]
  },
  {
   "cell_type": "markdown",
   "metadata": {},
   "source": [
    "## Uncertainty Principle"
   ]
  },
  {
   "cell_type": "markdown",
   "metadata": {},
   "source": [
    "## Probability, Wave Functions, and the Copenhagen Interpretation\n",
    "\n",
    "### The Copenhagen Interpretation"
   ]
  },
  {
   "cell_type": "markdown",
   "metadata": {},
   "source": [
    "## Particle in a Box"
   ]
  },
  {
   "cell_type": "markdown",
   "metadata": {},
   "source": [
    "## The Schr&ouml;dinger Wave Equation\n",
    "\n",
    "### Normalization and Probability\n",
    "\n",
    "### Properties of Valid Wave Functions\n",
    "\n",
    "### Time-Independent Schr&ouml;dinger Wave Equation"
   ]
  },
  {
   "cell_type": "markdown",
   "metadata": {},
   "source": [
    "## Expectation Values"
   ]
  },
  {
   "cell_type": "markdown",
   "metadata": {},
   "source": [
    "## Infinite Square-Well Potential"
   ]
  },
  {
   "cell_type": "markdown",
   "metadata": {},
   "source": [
    "## Three-Dimensional Infinite-Potential Well"
   ]
  }
 ],
 "metadata": {
  "interpreter": {
   "hash": "be4bb3c2f54353c26a4bcaba16037df563cd9cf9cf84d3cc553cf8d78d2d3996"
  },
  "kernelspec": {
   "display_name": "Python 3.8.8 ('base')",
   "language": "python",
   "name": "python3"
  },
  "language_info": {
   "codemirror_mode": {
    "name": "ipython",
    "version": 3
   },
   "file_extension": ".py",
   "mimetype": "text/x-python",
   "name": "python",
   "nbconvert_exporter": "python",
   "pygments_lexer": "ipython3",
   "version": "3.8.8"
  },
  "orig_nbformat": 4
 },
 "nbformat": 4,
 "nbformat_minor": 2
}
