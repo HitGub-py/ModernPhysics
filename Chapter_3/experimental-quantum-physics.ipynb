{
 "cells": [
  {
   "cell_type": "markdown",
   "metadata": {},
   "source": [
    "# Experimental Quantum Physics\n",
    "During the 30-year period of 1900-1930, our understanding of physical laws dramatically changed.  This was partly motivated by advances in theory by Einstein's special relativity and through new experimental results (e.g., Michelson-Morley experiment).  Another great advance began in 1900 when Max Planck introduced his explanation of blackbody radiation.  The discovery of the x-ray, electron, and electron charge were also great experimental achievements.\n",
    "\n",
    "## Discovery of the X-Ray and the Electron\n",
    "in the 1890s, *cathode rays* were easily generated from a metal plate with a large electric potential and in an evacuated tube.  However, the origin and constitution of cathode rays was not well understood (or even known).  The concept of an atomic substructure of matter was useful to explain the results of chemical experiments, Therefore, physicists deduced that cathode rays had something to do with atoms.  For example, cathode rays could penetrate matter, and their properties were of great interest in the 1890s.\n",
    "\n",
    "In 1895, Wilhelm R&ouml;ntgen studied how cathode rays interacted with various materials and noticed a phosphorescent screen glowing vividly in the darkened room.  R&ouml;ntgen realized he was observing a new kind of ray that was unaffected by magnetic fields and could better penetrate matter as compared to typical cathode rays.  He called them **x-rays**, where they were apparently produced by the cathode rays bombarding the glass walls of his vacuum tube.  R&ouml;ntgen even showed that he could obtain an image of the bones in a hand when x-rays were allowed to pass through.  For his discovery, R&ouml;ntgen received the first Nobel Prize for Physics in 1901.  See the YouTube video below from TedEd for more details.\n",
    "\n",
    "<div align=\"center\">\n",
    "\n",
    "<iframe width=\"560\" height=\"315\"\n",
    "src=\"https://www.youtube.com/embed/gsV7SJDDCY4\" \n",
    "frameborder=\"0\" \n",
    "allow=\"accelerometer; autoplay; encrypted-media; gyroscope; picture-in-picture\" \n",
    "allowfullscreen></iframe>\n",
    "\n",
    "</div>\n",
    "\n",
    "For several years, before the discovery of x-rays, J.J. Thomson had been studying the properties of electrical discharges in gases.  Thomson, R&ouml;ntgen and many other scientists used a similar [apparatus](https://en.wikipedia.org/wiki/Cathode-ray_tube) (see Figure {numref}`<number><Thomson-fig>`).  Thomson believed that cathode rays were particles, whereas several other scientists believed they were wave phenomena.\n",
    "\n",
    "```{figure-md} Thomson-fig\n",
    "<img src=\"https://openstax.org/apps/archive/20220325.143432/resources/58ccc382e2195b4250cc9e7786710487db8254a7\" alt=\"Thomson\"  width=\"500px\">\n",
    "\n",
    " (a) J. J. Thomson produced a visible beam in a cathode ray tube. (b) This is an early cathode ray tube, invented in 1897 by Ferdinand Braun. (c) In the cathode ray, the beam (shown in yellow) comes from the cathode and is accelerated past the anode toward a fluorescent scale at the end of the tube. Simultaneous deflections by applied electric and magnetic fields permitted Thomson to calculate the mass-to-charge ratio of the particles composing the cathode ray. Image Credit: [OpenStax: Chemistry](https://openstax.org/books/chemistry-2e/pages/2-2-evolution-of-atomic-theory).\n",
    "```\n",
    "\n",
    "Thomson showed in 1897 that the charged particles emitted from a heated electrical cathode were in fact the same as cathode rays.  The rays from the cathode are attracted to the positive potential on the anode and further collimated to travel in a straight line, striking a fluorescent screen in the rear of the tube.  A voltage across the deflection plates sets up an electric field that deflects charged particles.  Thomson also studied the effects of a magnetic field upon the cathode rays and proved convincingly that the cathode rays acted as negatively charged particles (electrons) in both electric and magnetic fields.  Thomson received the Nobel Prize for Physics in 1906.\n",
    "\n",
    "```{note}\n",
    "Hertz performed a similar experiment, but observed on effect on the cathode rays due to the deflecting voltage.  In Hertz's experiment, the poorer vacuum allowed the cathode rays to interact with and ionize residual gas.  Thomson found the same result at first, but improved the vacuum to obtain his final result.\n",
    "```\n",
    "Thomson's method of measuring the ratio of the electron's charge to mass $e/m$ is now a stand technique.  With the magnetic field turned off, the electron entering the region between the plates is accelerated upward by the electric field as\n",
    "\n",
    "\\begin{align}\n",
    "F_y = ma_y = qE,\n",
    "\\end{align}\n",
    "\n",
    "where the ratio of the electron charge $q$ and mass $m$ are determined by measuring the acceleration $a_y$.  The time $t$ for the electron to traverse the deflecting plates of length $\\ell$ is $t \\approx \\ell/v_o$.  The exit angle $\\theta of the electron is then given by\n",
    "\n",
    "```{math}\n",
    ":label: deflection_angle\n",
    "\\tan \\theta = \\frac{v_y}{v_x} = \\frac{a_y t}{v_o} = \\frac{q}{m}\\frac{E\\ell}{v_o^2}.\n",
    "```\n",
    "```{figure-md} deflection-fig\n",
    "<img src=\"electron_deflection.png\" alt=\"e-deflect\"  width=\"500px\">\n",
    "\n",
    " Thomson's method of measuring the electron charge to mass ratio was to\n",
    "send electrons through a region containing a magnetic field ($\\vec{B}$ into page) perpendicular to an electric field ($\\vec{E}$ down).\n",
    "```\n",
    "\n",
    "The ratio $q/m$ can be determined if the initial velocity $v_o$ is known.  The initial velocity can be determined by turning on the magnetic field and adjusting the strength of $\\vec{B}$ until no deflection occurs.  The condition for zero deflection is the case of equilibrium or\n",
    "\n",
    "\\begin{align}\n",
    "\\vec{F} = q\\vec{E} + q\\vec{v} \\times \\vec{B} = 0,\n",
    "\\end{align}\n",
    "\n",
    "and\n",
    "\n",
    "$$ \\vec{E} = -\\vec{v} \\times \\vec{B}.$$\n",
    "\n",
    "Since $\\vec{v}$ and $\\vec{B}$ are perpendicular (i.e., the cross-product $\\sin \\theta = 1$), the initial velocity is related to the electric and magnetic field strengths by\n",
    "\n",
    "```{math}\n",
    ":label: electron_vel\n",
    "v_x = v_o = E/B.\n",
    "```\n",
    "\n",
    "We can extract the ratio $q/m$ through substitution by\n",
    "\n",
    "\\begin{align}\n",
    "\\frac{q}{m} = \\frac{v_o^2 \\tan \\theta}{E\\ell} = \\frac{E\\tan \\theta}{B^2 \\ell}.\n",
    "\\end{align}\n",
    "\n",
    "**An undergraduate that is reproducing Thomson's experiment uses deflecting plates that are $5.0\\ {\\rm cm}$ in length with an electric field of $1.2 \\times 10^4\\ {\\rm V/m}$.  Without the magnetic field, we find an angular deflection of $30^\\circ$ and no deflection with a magnetic of $8.8 \\times 10^{-4}\\ {\\rm T}$.  What is the initial velocity of the electron and its $q/m$?**\n",
    "\n",
    ">For the case of no deflection, we only need to know the magnitudes of the electric $E$ and magnetic $B$ fields.  Since those are given, we can solve for the initial velocity directly as\n",
    ">\n",
    ">$$ v_o = \\frac{E}{B} = \\frac{1.2 \\times 10^4\\ {\\rm V/m}}{8.8 \\times 10^{-4}\\ {\\rm T}} = 1.4 \\times 10^7\\ {\\rm m/s}. $$\n",
    ">\n",
    ">The unit of one Tesla ${\\rm T}$ represents a $\\frac{{\\rm N\\ s}}{{\\rm C\\ m}}$ and one Volt ${\\rm V}$ represents a $\\frac{{\\rm N\\ m}}{{\\rm C}}$.  Therefore the units of ${\\rm C}$ and ${\\rm N}$ cancel, leaving only ${\\rm m/s}$.\n",
    ">\n",
    ">Using the given angular deflection and plate length, the charge to mass ratio is\n",
    ">\n",
    ">$$ \\frac{q}{m} = \\frac{E\\tan \\theta}{B^2 \\ell} = \\frac{(1.2 \\times 10^4\\ {\\rm V/m})(\\tan 30^\\circ)}{(8.8 \\times 10^{-4}\\ {\\rm T})^2(0.05\\ {\\rm m})} = 1.8 \\times 10^{11}\\ {\\rm C/kg}.$$"
   ]
  },
  {
   "cell_type": "code",
   "execution_count": 1,
   "metadata": {},
   "outputs": [
    {
     "name": "stdout",
     "output_type": "stream",
     "text": [
      "The initial velocity of the electron is 1.4e+07 m/s.\n",
      "\n",
      "The charge to mass ratio is 1.8e+11 C/kg.\n"
     ]
    }
   ],
   "source": [
    "import numpy as np\n",
    "\n",
    "E_mag = 1.2e4 #Electric field strength in V/m\n",
    "B_mag = 8.8e-4 #Magnetic field strength in T\n",
    "\n",
    "l_plate = 0.05 #plate length in m\n",
    "deflect_ang = np.radians(30) #deflection angle in radians\n",
    "\n",
    "v_o = E_mag/B_mag\n",
    "q_m = E_mag*np.tan(deflect_ang)/(B_mag**2*l_plate)\n",
    "\n",
    "print(\"The initial velocity of the electron is %1.1e m/s.\\n\" % v_o)\n",
    "print(\"The charge to mass ratio is %1.1e C/kg.\" % q_m)"
   ]
  },
  {
   "cell_type": "markdown",
   "metadata": {},
   "source": [
    "Thomson's actual experiment obtained a result about 35% lower than the presently accepted value $e/m = 1.76 \\times 10^{11}\\ {\\rm C/kg}$.  Thomson realized that the value of $e/m$ for an electron was much larger than anticipated and a factor of $10^3$ larger than the $q/m$ previously measured for the hydrogen atom.  He concluded that $m$ was small, $e$ was large, or both.  In addition, the \"carriers of the electricity\" were quite penetrating compared with atoms or molecules, which must be larger in size."
   ]
  },
  {
   "cell_type": "markdown",
   "metadata": {},
   "source": [
    "## Determination of Electron Charge"
   ]
  },
  {
   "cell_type": "markdown",
   "metadata": {},
   "source": [
    "## Line Spectra"
   ]
  },
  {
   "cell_type": "markdown",
   "metadata": {},
   "source": [
    "## Quantization"
   ]
  },
  {
   "cell_type": "markdown",
   "metadata": {},
   "source": [
    "## Blackbody Radiation"
   ]
  },
  {
   "cell_type": "markdown",
   "metadata": {},
   "source": [
    "## Photoelectric Effect\n",
    "\n",
    "### Experimental Results\n",
    "\n",
    "### Classical Interpretation\n",
    "\n",
    "### Einstein's theory\n",
    "\n",
    "### Quantum Interpretation"
   ]
  },
  {
   "cell_type": "markdown",
   "metadata": {},
   "source": [
    "## X-Ray Production\n"
   ]
  },
  {
   "cell_type": "markdown",
   "metadata": {},
   "source": [
    "## Compton Effect"
   ]
  },
  {
   "cell_type": "markdown",
   "metadata": {},
   "source": [
    "### Pair Production and Annihilation"
   ]
  }
 ],
 "metadata": {
  "interpreter": {
   "hash": "cd2e115bae0bd8507f53973663b16a6c8b1a6736f2a0b1c5bcd962a446a2698e"
  },
  "kernelspec": {
   "display_name": "Python 3.8.8 64-bit ('base': conda)",
   "name": "python3"
  },
  "language_info": {
   "codemirror_mode": {
    "name": "ipython",
    "version": 3
   },
   "file_extension": ".py",
   "mimetype": "text/x-python",
   "name": "python",
   "nbconvert_exporter": "python",
   "pygments_lexer": "ipython3",
   "version": "3.8.8"
  },
  "orig_nbformat": 4
 },
 "nbformat": 4,
 "nbformat_minor": 2
}
