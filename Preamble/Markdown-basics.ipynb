{
 "cells": [
  {
   "cell_type": "markdown",
   "metadata": {},
   "source": [
    "# Introduction to Markdown\n",
    "\n",
    "## What is Markdown?\n",
    "[Markdown](https://www.markdownguide.org/) is a lightweight markup language, where you can use simple formatting elements and the *LaTeX* math environments to generate elegant-looking notes that can be converted to HTML or pdf.  Markdown is different than a typical text editor because it does not show the formatting on the fly (i.e., a [WSIWYG](https://en.wikipedia.org/wiki/WYSIWYG) editor).  Instead it allows for simple text commands to stand for formatting elements and implements them on \"compilation\".  However, more complex markup from `HTML` can be used too.\n",
    "\n",
    "### Why Use Markdown?\n",
    "There are several reasons to use markdown, which make it the more convenient choice over a WSIWYG editor (e.g., MS Word). For example,\n",
    "\n",
    "- Markdown can be used for everything (e.g., websites, documents, notes, books, etc.).\n",
    "\n",
    "- Markdown is how we include standard text alongside code within Jupyter notebooks.  Jupyter notebooks use cells like Mathematica or Matlab, where the cells can contain python or Markdown.  This documentation is developed in a Jupyter notebook with Markdown.\n",
    "\n",
    "- Markdown is platform independent. PC, Linux, and Mac users can finally live in harmony!\n",
    "\n",
    "- Markdown allows for *LaTeX* in-line math commands (e.g., $y=mx+b$ or $\\mathbf{F} = m \\frac{d^2\\mathbf{x}}{dt^2}$), which can be extremely useful for writing up class notes or homework assignments.\n",
    "\n",
    "- Markdown makes linking to other webpages easy.\n",
    "\n",
    "Visit the Markdown Guide's [getting started](https://www.markdownguide.org/getting-started/) page for more details."
   ]
  },
  {
   "cell_type": "markdown",
   "metadata": {},
   "source": [
    "# Basic Syntax\n",
    "\n",
    "## Section Headings\n",
    "To create a section heading, use the # symbol as the first character on a line, followed by a space, and then the word (or phrase) that you need for the section heading.  To create sublevels for the section heading, just add another # sign that corresponds to the level.  For example, the section headings rendered above are given in Markdown as,\n",
    "\n",
    "```# Basic Syntax```  \n",
    "\n",
    "```## Section Headings```\n",
    "\n",
    "### Heading Best Practices\n",
    "\n",
    "- Include a space between the # and the words for the section heading.\n",
    "\n",
    "- Put blank lines before and after a heading to ensure compatibility."
   ]
  },
  {
   "cell_type": "markdown",
   "metadata": {},
   "source": [
    "\n",
    "## Paragraphs and Line Breaks\n",
    "\n",
    "Paragraphs are rendered as blocks of text that are separated by a blank line.  The HTML paragraph open tag ```<p>``` can also be used, but it needs to have the paragraph close tag ```</p>``` as well. \n",
    "\n",
    "To create a line break, end a line with two or more spaces followed by a return.  The HTML line break tag ```<br>``` can be used for a single line break.\n",
    "\n",
    "### Paragraph and Line Break Best Practices\n",
    "\n",
    "- Keep your lines left-aligned.\n",
    "\n",
    "- Don't indent paragraphs with spaces or tabs.  If you *need* to indent a paragraph use the HTML non-breaking space ```&nbsp;``` four times to mimic an tab indent.\n",
    "\n",
    "- Use either two trailing whites spaces or the ```<br>``` HTML tag at the end of a line for the broadest compatibility."
   ]
  },
  {
   "cell_type": "markdown",
   "metadata": {},
   "source": [
    "\n",
    "## Font Typesetting\n",
    "\n",
    "Sometimes you might want to add emphasis so that a particular line or phrase *pops* out.  Markdown uses a single ```*``` before and after a word (or phrase) to indicate italics and a ```**``` to indicate bold.  If the text is ***really important*** with both bold and italics, then a ```***``` can be used.\n",
    "\n",
    "### Font Typesetting Best Practices\n",
    "\n",
    "- Single, double, and triple underscores can be used for italics, bold, and bold-italics, respectively. But compatibility not all Markdown applications agree on this convention."
   ]
  },
  {
   "cell_type": "markdown",
   "metadata": {},
   "source": [
    "\n",
    "## Blockquotes\n",
    "\n",
    "Blockquotes are sometimes necessary to emphasize a particular section or give it a distinctive look.  The ```>``` character at the beginning of a line indicates a blockquote, where the number  ```>``` characters corresponds to the nesting of the blockquote (i.e., like the section headings).  Blockqoutes can contain other formatted elements (e.g., italics or bold).\n",
    "\n",
    ">A *single* blockquote can be good to set some text apart.\n",
    ">\n",
    ">>A **subsection** of a blockquote is just as easy. \n",
    "\n",
    "### Blockquotes Best Practices\n",
    "\n",
    "- For compatibility, put blank lines before and after blockquotes."
   ]
  },
  {
   "cell_type": "markdown",
   "metadata": {},
   "source": [
    "## Lists\n",
    "\n",
    "To create items in a list, you can use either numbers or bullets.  For *numbers*, simply start a line with a number, followed by a period, then a space, and finally the text item.  Bullets follow a similar syntax, but with ```-``` and a space.\n",
    "\n",
    "1. First layer \n",
    "\n",
    "    1.1 Use 4 spaces for the second layer\n",
    "\n",
    "    \n",
    "2. Second item\n",
    "\n",
    "- First layer  \n",
    "    - Second layer\n",
    "        - Third layer\n",
    "\n",
    "### Lists Best Practices\n",
    "\n",
    "- Use number dot (1.) format for the best compatibility.\n",
    "- Other characters (```*``` or ```+```) can be used for bullet lists.  Pick one and be consistent."
   ]
  },
  {
   "cell_type": "markdown",
   "metadata": {},
   "source": [
    "## Links\n",
    "\n",
    "To create a link with a word, enclose the link text in brackets (e.g., ```[Modern Astrophysics]```) and then follow it immediately with the URL in parentheses (e.g., https://saturnaxis.github.io/ModernAstro/home.html).  The rendered output looks like this:\n",
    "\n",
    "[Modern Astrophysics](https://saturnaxis.github.io/ModernAstro/home.html)"
   ]
  },
  {
   "cell_type": "markdown",
   "metadata": {},
   "source": [
    "## Math Environment with LaTeX\n",
    "\n",
    "A LaTeX [math guide for undergrads](https://joshua.smcvt.edu/undergradmath/undergradmath.pdf) is available from the Mathematics Department of Saint Michael's College, VT.  This guide can be useful as a quick reference.\n",
    "\n",
    "LaTeX math commands can be rendered with a single ```$``` in the in-line format that you may already know.  To write math equations on a separate line (centered), use  ```$$``` instead.  \n",
    "\n",
    "- Similar to other best practices, be sure to have 1 blank line before and after the equation.\n",
    "\n",
    "- Also make sure that you end your equation with an appropriate ```$``` character."
   ]
  }
 ],
 "metadata": {
  "interpreter": {
   "hash": "cd2e115bae0bd8507f53973663b16a6c8b1a6736f2a0b1c5bcd962a446a2698e"
  },
  "kernelspec": {
   "display_name": "Python 3.8.8 64-bit ('base': conda)",
   "name": "python3"
  },
  "language_info": {
   "codemirror_mode": {
    "name": "ipython",
    "version": 3
   },
   "file_extension": ".py",
   "mimetype": "text/x-python",
   "name": "python",
   "nbconvert_exporter": "python",
   "pygments_lexer": "ipython3",
   "version": "3.8.8"
  },
  "orig_nbformat": 4
 },
 "nbformat": 4,
 "nbformat_minor": 2
}
