{
 "cells": [
  {
   "cell_type": "markdown",
   "metadata": {},
   "source": [
    "# Special Theory of Relativity\n",
    "\n",
    "Albert Einstein presented his special theory of relativity in 1905, which tells us how we should measure the relative motion of bodies at high speed.  Most objects are moving fast enough and thus, the **Newtonian principle of relativity** (or *Galilean invariance*) is an acceptable approximation.  Newton's laws of motion must be measured *relative* to some reference frame, where an **inertial frame** is present if Newton's laws are valid in that frame.  \n",
    "\n",
    "A body moves in a straight line with constant velocity if it is not subject to a net external force (i.e., Newton's first law), where the coordinate system attached to that body defines an inertial frame.  A reference frame moving at a uniform velocity relative to the first system also obeys Newton's laws.  Newton showed that it was not possible to determine absolute motion in space by any experiment, where he used relative motion.  \n",
    "\n",
    "**Consider two inertial reference frames that are moving relative to each other along their $x$ and $x^\\prime$ axes with a uniform velocity $v$, as shown in Figure  {numref}`{number}<reference-frame-fig>`.**\n",
    "\n",
    "```{figure-md} reference-frame-fig\n",
    "<img src=\"https://upload.wikimedia.org/wikipedia/commons/6/64/Frames_of_reference_in_relative_motion.svg\" alt=\"reference frame\"  width=\"600px\">\n",
    "\n",
    "The standard configuration of two frames of reference, the primed system in motion relative to the unprimed system only along the $x$-axis and with speed $v$. Image Credit: [Wikipedia](https://commons.wikimedia.org/wiki/File:Frames_of_reference_in_relative_motion.svg); Krea.\n",
    "```\n",
    "\n",
    "The motion of the the primed coordinates can be written in terms of the unprimed coordinates as\n",
    "\n",
    "```{math}\n",
    ":label: Galilean_trans\n",
    "x^\\prime &= x - vt, \\\\\n",
    "y^\\prime &= y, \\\\\n",
    "z^\\prime &= z. \n",
    "```\n",
    "\n",
    "Newton considered the concepts of time and space as completely separable, where space is relative and time is absolute (i.e., $t=t^\\prime$).  Equation {eq}`Galilean_trans` is known as the **Galilean transformation**, where the inverse transformation can be determined algebraically, (e.g., $x = x^\\prime + vt$).  Newton's laws of motion are invariant (i.e., have the same form) under a Galilean transformation."
   ]
  },
  {
   "cell_type": "markdown",
   "metadata": {},
   "source": [
    "## Need for Ether\n",
    "Thomas Young performed his famous experiments on the interference of light in 1802.  [Augustin Fresnel](https://www.britannica.com/biography/Augustin-Jean-Fresnel) showed a detailed understanding of interference, diffraction, and polarization a decade later.  These discoveries showed that light could behave like a wave and how waves interact with each other.  But, classical physicists \"knew\" that all waves needed a medium to travel, where they proposed the *luminiferous aether* (i.e., ether) as that medium.  The ether had to have a low density that planets could pass through it with no apparent changes in their orbits.  Its elasticity must be strong enough to support incredibly high wave speeds too.\n",
    "\n",
    "Maxwell shoed that the speed of light in different media depends only on the electric and magnetic properties of matter.  In vacuum, the speed of light depends on the permeability $\\mu_o$ and permittivity $\\epsilon_o$ of free space.  The properties of the ether must be consistent with electromagnetic theory, which required only a sensitive enough experiment.  There was a *general consensus* for the concept of ether by 1880.  Maxwell's equation were elegant enough to make testable predictions, including matters concerning the ether.  \n",
    "\n",
    "**Suppose we flash a light in a moving system $K^\\prime$ and an observer in system $K^\\prime$ measures the speed of light as $c$**.  We can find the speed measured in system $K$ through the addition of velocities, $c \\pm v$, where $v$ is the relative speed of the two systems.  Maxwell's equations don't differentiate between the two systems, and it was unclear which frame should be taken as the reference.  In the late 19th century, physicists proposed that the preferred inertial reference frame was the one with the ether and the speed of light in that frame was $c$.  No experiment at the time was able to discern the effect due to the relative speed $v$ (i.e., $c\\pm v \\approx c$)."
   ]
  },
  {
   "cell_type": "markdown",
   "metadata": {},
   "source": [
    "## Michelson-Morley Experiment\n",
    "\n",
    "### Michelson's Interferometer\n",
    "The Earth orbits the Sun at $\\sim 30\\ {\\rm km/s}$ (or $\\sim 10^{-4}c$), so an obvious experiment is to try to find the effects of the Earth's motion through the ether.  Albert Michelson built an extremely precise device called an *interferometer*, which measures the phase difference between two light waves.  Michelson used his [interferometer](https://en.wikipedia.org/wiki/Michelson_interferometer) to detect the difference in the speed of light passing through the ether in different directions. Figure {numref}`{number}<interferometer-fig>` shows the basic setup for the Michelson interferometer.\n",
    "\n",
    "```{figure-md} interferometer-fig\n",
    "<img src=\"https://openstax.org/apps/archive/20220325.143432/resources/b3f8bf8d0a6f21076baaa28ff720a36774658498\" alt=\"interferometer\"  width=\"600px\">\n",
    "\n",
    "(a) The Michelson interferometer. The extended light source is a ground-glass plate that diffuses the light from a laser. (b) A planar view of the interferometer. Image Credit: [OpenStax University Physics: Vol 3](https://openstax.org/books/university-physics-volume-3/pages/3-5-the-michelson-interferometer).\n",
    "```\n",
    "\n",
    "Initially, it is assumed that one of the interferometer arms ($d_1$ or $d_2$) is parallel to Earth's motion through the ether.  Light leaves the source and passes through the glass plate $M$.  Part of the light will eventually go to the mirror $M_1$ and part of the light will travel to $M_2$. The back of $M$ is partially silvered and part of the light is reflected.  The light is reflected at the mirrors ($M_1$ and $M_2$) and comes back to the partially silvered mirror $M$, where part of the light from each path passes on to observer/detector. The compensator is added at $C$ to make sure both light paths pass through equal thicknesses of glass.  Figure {numref}`{number}<interferometer-anim-fig>` shows the paths the light can take.\n",
    "\n",
    "```{figure-md} interferometer-anim-fig\n",
    "<img src=\"https://upload.wikimedia.org/wikipedia/commons/b/bd/Michelson%C5%AFv_interferometr.gif\" alt=\"interferometer-path\"  width=\"600px\">\n",
    "\n",
    "The Michelson interferometer animated path. Image Credit: [Wikipedia](https://commons.wikimedia.org/wiki/File:Michelson%C5%AFv_interferometr.gif).\n",
    "```\n",
    "\n",
    "Using sodium as a bright light source (*don't use a laser if you're the observer*) interference fringes can be found.  The fringe pattern should shift if the apparatus is rotated through $90^\\circ$, such that the path $d_1$ becomes parallel to Earth's motion and the path $d_2$ is perpendicular.  The observed interference pattern consists of light and dark bands that correspond to constructive and destructive interference (Figure {numref}`{number}<fringes-fig>`).\n",
    "\n",
    "```{figure-md} fringes-fig\n",
    "<img src=\"https://openstax.org/apps/archive/20220325.143432/resources/cbf0b91f98821d54c258f1bffb6480e334819cc1\" alt=\"interferometer\"  width=\"600px\">\n",
    "\n",
    "Fringes produces with a Michelson interferometer. Image Credit: [OpenStax University Physics: Vol 3](https://openstax.org/books/university-physics-volume-3/pages/3-5-the-michelson-interferometer).\n",
    "```\n",
    "\n",
    "For constructive interference, the difference between the two path lengths is given by an integer $n$ number of wavelengths $\\lambda$, $2(d_1-d_2) = n\\lambda$.  The expected shift in the interference pattern can be calculated by the time difference between the two paths.  When light travels to the right along path $d_2$, the velocity of light according to the Galilean transformation is $c+v$ because the ether carries the light along with it.  On the return journey, the velocity is $c-v$ because the light is now traveling *against* the path of the ether.  The total time for the round trip is\n",
    "\n",
    "$$ t_2 = \\frac{d_2}{c+v} + \\frac{d_2}{c-v} = \\frac{2cd_2}{c^2 - v^2} = \\frac{2d_2}{c}\\left(\\frac{1}{1-v^2/c^2} \\right). $$\n",
    "\n",
    "For the other path, the light is moving across the current of the ether.  It must move upriver to compensate for when the current carries the light downstream.  This makes a triangle, where the ether's velocity is $c$ and the light has a velocity $v$ that is diagonal to $c$.  The velocity that accounts for the current of the ether is $\\sqrt{c^2 -v^2}$ instead of $c^2-v^2$.  From the equation for $t_2$, we can deduce that the round trip time is\n",
    "\n",
    "$$ t_1 = \\frac{2d_1}{\\sqrt{c^2-v^2}} = \\frac{2d_1}{c}\\frac{1}{\\sqrt{1-v^2/c^2}}. $$\n",
    "\n",
    "The time difference between the two journeys $\\Delta t$ is\n",
    "\n",
    "```{math}\n",
    ":label: time_diff_1\n",
    "\\Delta t = t_1 - t_2 = \\frac{2}{c}\\left(\\frac{d_2}{\\sqrt{1-v^2/c^2}} - \\frac{d_1}{1-v^2/c^2}  \\right).\n",
    "```\n",
    "\n",
    "If we rotate the apparatus by $90^\\circ$ so that the ether passes along $d_1$.  The time difference $\\Delta t^\\prime$ is\n",
    "\n",
    "\\begin{align}\n",
    "\\Delta t^\\prime  = \\frac{2}{c}\\left(\\frac{d_2}{1-v^2/c^2} - \\frac{d_1}{\\sqrt{1-v^2/c^2}}  \\right).\n",
    "\\end{align}\n",
    "\n",
    "Michelson looked for a shift in the interference pattern and found the time difference as\n",
    "\n",
    "$$ \\Delta t^\\prime - \\Delta t = \\frac{2}{c}\\left( \\frac{d_1 + d_2}{1-v^2/c^2} - \\frac{d_1 + d_2}{\\sqrt{1-v^2/c^2}}\\right ). $$\n",
    "\n",
    "Since $v \\ll c$, we can use the [binomial expansion](https://en.wikipedia.org/wiki/Binomial_theorem) to expand the terms involving $v^2/c^2$ as $x$, where high order terms in $x$ are negligible.  The time difference becomes\n",
    "\n",
    "```{math}\n",
    ":label: time_diff\n",
    "\\Delta t^\\prime - \\Delta t = \\frac{2}{c}\\left(d_1 + d_2\\right) \\left[\\left(1 + \\left(\\frac{v}{c}\\right)^2 + \\cdots \\right) - \\left(1 + \\frac{1}{2}\\left(\\frac{v}{c}\\right)^2 + \\cdots \\right) \\right] \\approx \\frac{v^2}{c^3}\\left(d_1 + d_2 \\right).\n",
    "```\n",
    "\n",
    "To measure the time difference in Eqn. {eq}`time_diff` Michelson used 30 km/s for the Earth's orbital speed and his apparatus had $1.2\\ {\\rm m}$ arms ($d_1=d_2$).  The predicted time difference is only $8 \\times 10^{17}\\ {\\rm s}$.  For a visible wavelength ($600\\ {\\rm nm}$), the period of one wavelength amounts to $T = 1/f = \\lambda/c = 2 \\times 10^{-15}\\ {\\rm s}$.  The predicted time difference represents 0.04 fringes in the interference pattern.  Michelson reasoned that a shift of at least 0.02 fringes was detectable, but found no shift.  Michelson concluded that the hypothesis of the stationary ether must be incorrect.\n",
    "\n",
    "### Collaboration with Morley\n",
    "Michelson's experimental result was so surprising that he was asked by several well-known physicists to repeat it.  Together with Edward Morley, Michelson put together a more sophisticated experiment with more mirrors, some of which were adjustable.  The new experiment had an optical path length of $11\\ {\\rm m}$ from eight round trips.  It was mounted on soapstone that floated on mercury to eliminate vibrations.  Michelson and Morley believed they could detect a fringe shift as small as 0.005 and expected the ether to produce a shift of 0.4.  In 1887, they reported a *null result* (i.e., no effect).  The ether does not seem to exist.\n",
    "\n",
    "The inability to detect the ether was a serious blow to reconciling the invariant form of Maxwell's equations.  Lorentz and FitzGerald suggested (apparently independently) that the Michelson-Morley experiment could be understood if length is contracted by the factor $\\gamma^{-1} = \\sqrt{1 - v^2/c^2}$ in the direction of motion, where $v$ is the speed.  In this situation, the length $d_2$ will be contracted by the $\\gamma^{-1}$ factor, whereas the length $d_1$ will not.  Applying the factor to Eqn. {eq}`time_diff_1` results in making $\\Delta t = 0$ as determined experimentally by Michelson.  The contraction postulate became known as the *Lorentz-FitzGerald* contraction and was not proven from first principles using Maxwell's equations.  Einstein presented his explanation later, and the true significance of the postulate was understood."
   ]
  },
  {
   "cell_type": "markdown",
   "metadata": {},
   "source": [
    "## Einstein's Postulates\n",
    "The Michelson-Morley experiment exposed the idea of a preferred inertial system of Maxwell's equation as false.  However, a problem remained where the Galilean transformation was invalid for Maxwell's equations, but worked for the laws of mechanics.  Einstein looked at the problem in a more formal manner and believed that Maxwell's equations must be valid in all *inertial* frames.  As a result, he developed two postulates, which are\n",
    "\n",
    "1. **The principle of relativity**: The laws of physics are the same in all inertial systems.  There is no way to detect absolute motion and no preferred inertial system exists.\n",
    "2. **The constancy of the speed of light**: Observers in all inertial systems measure the same value for the speed of light *in a vacuum*.\n",
    "\n",
    "The first postulate indicates that the laws of physics are the same in all coordinate systems moving with uniform relative motion to each other.  Einstein showed that postulate 2 actually follows from postulate 1.  Einstein used these postulates to re-evaluate the Newton's principle of relativity and expanded it to include all laws of physics, including those of electromagnetism.  \n",
    "\n",
    "```{note}\n",
    "We can now modify our previous definition of inertial frames of reference to be those frames of reference in which *all the laws of physics* are valid.\n",
    "```\n",
    "\n",
    "To make things clearer, Einstein used [thought experiments](https://en.wikipedia.org/wiki/Einstein%27s_thought_experiments) to work out how relativity would work in real life.  Recall the problem at the end of [Sect. 2.1](https://saturnaxis.github.io/ModernAstro/Chapter_2/special-theory-of-relativity.html#need-for-ether), we had assumed that events occurring in system $K$ and $K^\\prime$ could be easily synchronized so that $t = t^\\prime$.  Einstein realized that each system must have its own observers with their own clocks and metersticks.\n",
    "\n",
    "**Consider two observers measuring the time interval between two flashes of light from flash lamps that are a distance apart** (Fig. {numref}`{number}<simultaneity-fig>`). \n",
    "\n",
    "```{figure-md} simultaneity-fig\n",
    "<img src=\"https://openstax.org/apps/archive/20220325.143432/resources/7c2fdb6db443e45f189370005ba99a9dac24fa4c\" alt=\"simultaneity\"  width=\"600px\">\n",
    "\n",
    "(a) Two pulses of light are emitted simultaneously relative to observer B. (c) The pulses reach observer B’s position simultaneously. (b) Because of A’s motion, she sees the pulse from the right first and concludes the bulbs did not flash simultaneously. Both conclusions are correct. Image Credit: [OpenStax University Physics: Vol 3](https://openstax.org/books/university-physics-volume-3/pages/5-2-relativity-of-simultaneity).\n",
    "```\n",
    "\n",
    "An observer A is seated midway on a rail car with two flash lamps at opposite sides equidistant from her. A pulse of light is emitted from each flash lamp and moves toward observer A, (Fig. {numref}`{number}<simultaneity-fig>`a). The rail car is moving rapidly to the right. An observer B standing on the platform is facing the rail car as it passes and observes both flashes of light reach him simultaneously, (Fig. {numref}`{number}<simultaneity-fig>`c). He measures the distances from where he saw the pulses originate, finds them equal, and concludes that the pulses were emitted simultaneously.\n",
    "\n",
    "Because of Observer A’s motion, the pulse from the right of the railcar reaches her before the pulse from the left (Fig. {numref}`{number}<simultaneity-fig>`b). She also measures the distances from within her frame of reference, finds them equal, and concludes that the pulses were not emitted simultaneously.  We conclude that\n",
    "\n",
    "```{epigraph}\n",
    "Two events that are simultaneous in one reference frame are not necessarily simultaneous in another reference frame moving with respect to the first frame.\n",
    "```\n",
    "\n",
    "Time comparison can be accomplished by sending light signals from one observer to another, but the information travels with a finite speed (i.e., the speed of light).  It is best if each system has its own observer with synchronized clocks.  We can determine the time of an event occurring far away from us by having a colleague at the event, with a clock fixed at rest, measure the time of a particular event, and send us the results.\n",
    "\n",
    "A more rigorous transformation called the **Lorentz transformation** makes the laws of physics invariant between inertial frames of reference.  At $t=t^\\prime=0$, the origins of two coordinate systems are coincident and the system $K^\\prime$ is traveling along the $x$ and $x^\\prime$ axes.  For this special case the Lorentz transformation equations are\n",
    "\n",
    "```{math}\n",
    ":label: lorentz_trans\n",
    "x^\\prime &= \\frac{x-vt}{\\sqrt{1-v^2/c^2}} \\\\\n",
    "y^\\prime &= y \\\\\n",
    "z^\\prime &= z \\\\\n",
    "t^\\prime &= \\frac{t-\\left(vx/c^2 \\right)}{\\sqrt{1-v^2/c^2}}\n",
    "```\n",
    "\n",
    "We commonly use the following substitutions, \n",
    "\n",
    "\\begin{align}\n",
    "\\beta &= \\frac{v}{c} \\\\\n",
    "& \\text{and} \\\\\n",
    "\\gamma &= \\frac{1}{\\sqrt{1-v^2/c^2}},\n",
    "\\end{align}\n",
    "\n",
    "to write Eqn. {eq}`lorentz_trans` in a more compact form.\n"
   ]
  },
  {
   "cell_type": "markdown",
   "metadata": {},
   "source": [
    "## Lorentz Transformations\n",
    "Ultimately, we want to know which transformation is necessary so that all inertial frames of reference are valid for the laws of physics (i.e., both Newton's mechanics and Maxwell's equations).  \n",
    "\n",
    "**Consider two inertial reference frames ($K$ and $K^\\prime$) that are moving relative to each other along their $x$ and $x^\\prime$ axes with a uniform velocity $v$, as shown in Figure  {numref}`{number}<reference-frame-fig>`.**  A flash lamp goes off at $t=t^\\prime=0$, where  the speed of light will be $c$ in both systems according to postulate 2.  The wavefronts observed in both systems must be spherical and described by\n",
    "\n",
    "\\begin{align}\n",
    "x^2 + y^2 + z^2 &= c^2 t^2, \\\\\n",
    "x^{\\prime 2} + y^{\\prime 2} + z^{\\prime 2} &= c^2 t^{\\prime 2}.\n",
    "\\end{align}\n",
    "\n",
    "These equations are inconsistent with a Galilean transformation because a wavefront can be spherical in only one system when the second is moving at a relative speed $v$.  The Lorentz transformation *requires* both systems to have a spherical wavefront centered on each system's origin.\n",
    "\n",
    "Another clear break with Newtonian physics is that each system must have its own clock and metersticks.  Since the systems move only along their $x$ axes, observers in both systems agree by direct observation that $y^\\prime = y$ and $z^\\prime = z$.  The Galilean transformation $x^\\prime = x - vt$ is incorrect, where we need a linear transformation that maps each event in system $K$ to a unique (i.e., only one) event in $K^\\prime$.  The simplest *linear* transformations are\n",
    "\n",
    "```{math}\n",
    ":label: x_trans\n",
    "x^\\prime = \\gamma\\left(x-vt\\right),\n",
    "x = \\gamma^\\prime\\left(x^\\prime + vt^\\prime \\right).\n",
    "```\n",
    "\n",
    "The transformation is linear because $gamma$ does not depend on $x$ or $t$ and must be close to 1 to reduce back to Newtonian physics.  From postulate 1, we demand that $\\gamma =\\gamma^\\prime$.\n",
    "\n",
    "According to postulate 2, the speed of light is $c$ in both systems.  Therefore the wavefront of the light pulse in each system is described by $x=ct$ and $x^\\prime = ct^\\prime$.  Direct substitution produces the following\n",
    "\n",
    "```{math}\n",
    ":label: x_trans_sub\n",
    "ct^\\prime = \\gamma\\left(ct-vt\\right),\n",
    "ct = \\gamma\\left(ct^\\prime + vt^\\prime \\right).\n",
    "```\n",
    "\n",
    "From these equations, we want to determine $\\gamma$ and solve for $t^\\prime$ in terms of un-primed coordinates.\n",
    "\n",
    "To solve for $\\gamma$, we transform the above equations into\n",
    "\n",
    "\\begin{align}\n",
    "t^\\prime &= \\gamma t\\left(1-\\frac{v}{c}\\right), \\\\\n",
    "t &= \\gamma t^\\prime \\left(1+\\frac{v}{c}\\right),\n",
    "\\end{align}\n",
    "\n",
    "and through direct substitution, we get\n",
    "\n",
    "\\begin{align}\n",
    "t^\\prime &= \\gamma t^\\prime \\left(1-\\frac{v}{c}\\right) \\left(1+\\frac{v}{c}\\right).\n",
    "\\end{align}\n",
    "\n",
    "Eliminating $t^\\prime$ and solving for $\\gamma$ produces\n",
    "\n",
    "```{math}\n",
    ":label: gamma_Lorentz\n",
    "\\gamma = \\frac{1}{\\sqrt{1-v^2/c^2}}.\n",
    "```\n",
    "\n",
    "Now we can solve for $t^\\prime$ in un-primed coordinates directly by\n",
    "\n",
    "\\begin{align}\n",
    "t^\\prime = \\frac{t\\left(1-v/c\\right)}{\\sqrt{1-v^2/c^2}},\n",
    "\\end{align}\n",
    "\n",
    "and using the substitution $t = x/c$ in the $vt/c$ term to get\n",
    "\n",
    "\\begin{align}\n",
    "t^\\prime = \\frac{t-vx/c^2}{\\sqrt{1-v^2/c^2}}.\n",
    "\\end{align}\n",
    "\n",
    "Now we have a the complete Lorentz transformations or Eqn. {eq}`lorentz_trans`.  The inverse transformation equation are obtained by replacing $v$ by $-v$ and by exchanging the primed and unprimed quantities (i.e., $x\\rightarrow x^\\prime$).\n",
    "\n",
    "Notice that the Lorentz transformation is approximately the Galilean transformation for $v\\ll c$ and become significantly more different as $v / c \\rightarrow 1$.  The python code below produces a figure that illustrates how the relativistic factor $\\gamma$ changes with $v / c$."
   ]
  },
  {
   "cell_type": "code",
   "execution_count": 3,
   "metadata": {},
   "outputs": [
    {
     "data": {
      "image/png": "[encoded data removed]",
      "text/plain": [
       "<Figure size 450x450 with 1 Axes>"
      ]
     },
     "metadata": {
      "needs_background": "light"
     },
     "output_type": "display_data"
    }
   ],
   "source": [
    "import numpy as np\n",
    "import matplotlib.pyplot as plt\n",
    "\n",
    "beta = np.arange(0,1,0.001)\n",
    "gamma = 1./np.sqrt(1-beta**2)\n",
    "\n",
    "fs = 'large'\n",
    "\n",
    "fig = plt.figure(figsize=(3,3),dpi=150)\n",
    "ax = fig.add_subplot(111)\n",
    "\n",
    "ax.plot(beta,gamma,'-',lw=2)\n",
    "ax.set_xlabel(\"$v/c$\",fontsize=fs)\n",
    "ax.set_ylabel(\"Relativistic factor $\\gamma$\",fontsize=fs)\n",
    "ax.grid(True)\n",
    "\n",
    "ax.set_xlim(0,1)\n",
    "ax.set_ylim(0,8);"
   ]
  },
  {
   "cell_type": "markdown",
   "metadata": {},
   "source": [
    "The implications of the Lorentz transformation are that\n",
    "\n",
    "- a single event in one system is described uniquely by an event in another inertial system.\n",
    "- space and time are *not separate*.  To express the position of $x$ in system $K^\\prime$, we must use both $x^\\prime$ and $t^\\prime$.  \n",
    "- the relativistic factor does not allow for $v>c$ (i.e., otherwise it would become imaginary)."
   ]
  },
  {
   "cell_type": "markdown",
   "metadata": {},
   "source": [
    "## Time Dilation and Length Contraction\n",
    "The Lorentz transformations affect both the time and apparent length for observers in different inertial frames.  \n",
    "\n",
    "**Consider two reference frames, where $K$ is fixed (at rest) and $K^\\prime$ is moving along the $x$ axis with a velocity $\\vec{v}$.**  A lamp is lit in the fixed frame $K$, when the clock in $K$ reads a time $t_1$.  The lamp is extinguished when the the clock in $K$ reads a time $t_2$.  Therefore, the total time for which the lamp is lit is $T_o = t_2 - t_1$, or the **proper time**.  The proper time is the time difference between two events occurring at teh same position in a system as measured by a clock at rest in the system.\n",
    "\n",
    "The time determined by on observer in the moving frame $K$ will be different.  Assuming all the clocks have been synchronized, the time measured by the observer in $K^\\prime$ is $t_2^\\prime - t_1^\\prime$, or\n",
    "\n",
    "$$ T^\\prime = t_2^\\prime - t_1^\\prime = \\frac{(t_2-t_1) - (v/c^2)(x_2-x_1)}{\\sqrt{1-v^2/c^2}}. $$\n",
    "\n",
    "In the fixed frame $K$, the clock is fixed (in space) at $x_1$ and so $x_2-x_1 = 0$.  Then, the observed time in the moving frame $K^\\prime$ is\n",
    "\n",
    "```{math}\n",
    ":label: time_dilation\n",
    "T^\\prime = \\frac{T_o}{\\sqrt{1-v^2/c^2}} = \\gamma T_o,\n",
    "```\n",
    "\n",
    "which means that the observer in the moving frame measures a *longer* duration for the lamp than the observer in the fixed frame.  This effect is known as **time dilation** and is a direct result of Einstein's two postulates.  The time dilation result is often interpreted by saying that *moving clocks run slow* by the factor $\\gamma^{-1}$."
   ]
  },
  {
   "cell_type": "markdown",
   "metadata": {},
   "source": [
    "**It is the year 2150 and the UN Space Federation has *finally* perfected the storage of antiprotons for use as a fuel in a spaceship.  Preparations are underway for a manned spacecraft to visit a planet orbiting [Proxima Centauri](https://en.wikipedia.org/wiki/Proxima_Centauri), which is 4.25 lightyears away.  Due to strict regulations, only 16 years of provisions are available for the crew.  How fast must the spacecraft travel if the provisions are to last?** Neglect the time required to accelerate the spaceship, turnaround and visit the planets at Proxima Centauri, and to decelerate the spaceship upon return. They are negligible compared with the actual travel time.\n",
    "\n",
    ">The total trip time is limited to 16 years as constrained by the provisions and it appears unlikely that the crew would find a [Buc-ee's](https://en.wikipedia.org/wiki/Buc-ee%27s) along the way to restock their provisions.  From Earth, we realize that the spacecraft will be moving at a high relative $v$ speed.  According to the clock in the Earth frame of reference (i.e., fixed frame $K$), the trip will take a time $T = 2L/v$, where $L$ is the distance to Proxima Centauri.\n",
    ">\n",
    ">The total trip time of 16 years is measured relative to the spaceship's moving frame of reference $K^\\prime$, which will be designated as its proper time $T_o^\\prime$.  The relationship from Eqn. {eq}`time_dilation` has the measured time in the $K$ frame, but we have a measurement in the $K^\\prime$ frame.  We need the inverse transformation, which is obtained simply by exchanging the prime and unprimed quantities (i.e., $T = \\gamma T_o^\\prime$).  The replacement of $v$ to $-v$ is subsumed in the $T_o^\\prime$, for which we already have the value.  As a result, we have \n",
    ">\n",
    "> $$ T = \\frac{2L}{v} = \\frac{T_o^\\prime}{\\sqrt{1-v^2/c^2}} = \\gamma T_o^\\prime. $$\n",
    ">\n",
    ">Now we just need to solve the above equation for required speed $v$ to get (*verify the steps in between*)\n",
    ">\n",
    ">$$ v = \\left(\\frac{4L^2c^2}{T_o^{\\prime 2}c^2 + 4L^2}\\right)^{1/2}. $$\n",
    ">\n",
    ">The required speed is $1.41 \\times 10^8\\ {\\rm m/s}$ or $0.469c$, which is *really* fast.  The mission duration $T$ measured on Earth can now be determined as 18.1 years.  Notice that the spaceship crew will age only 16 years, whereas their friends on Earth will age 18.1 years."
   ]
  },
  {
   "cell_type": "code",
   "execution_count": 16,
   "metadata": {},
   "outputs": [
    {
     "name": "stdout",
     "output_type": "stream",
     "text": [
      "The lightyear can be derived as 9.46e+15 m or imported from a library as 9.46e+15 m.\n",
      "\n",
      "The required speed is 1.41e+08 m/s or 0.469 c.\n"
     ]
    }
   ],
   "source": [
    "from scipy.constants import c, light_year\n",
    "import numpy as np\n",
    "\n",
    "yr_in_sec = 3600*24*365.25 #1 Earth-year in sec\n",
    "ly = c*yr_in_sec #lightyear is the distance light travels in one year\n",
    "print(\"The lightyear can be derived as %1.2e m or imported from a library as %1.2e m.\\n\" % (ly,light_year))\n",
    "\n",
    "L = 4.25*light_year #distance to Proxima Centauri converted into meters\n",
    "To_prime = 16*yr_in_sec #Mission duration of 16 years converted into seconds\n",
    "\n",
    "v_req = np.sqrt((4*L**2*c**2)/(To_prime**2*c**2+4*L**2))\n",
    "print(\"The required speed is %1.2e m/s or %1.3f c.\" % (v_req,v_req/c))"
   ]
  },
  {
   "cell_type": "markdown",
   "metadata": {},
   "source": [
    "Now let's consider what happens to the length of objects in relativity.  **Consider an observer in each system $K$ and $K^\\prime$, where each observer has a meterstick at rest.**  Each meterstick measures a length $L_o = x_r - x_l$ or $L_o^\\prime = x_r^\\prime - x_l^\\prime$ in the respective $K$ or $K^\\prime$ frame, where the subscripts $r$ and $l$ refer to the left and right sides of the meterstick, respectively.  The length measured at rest in either frame is called the **proper length**.\n",
    "\n",
    "Let $K^\\prime$ denote a frame that is moving along the $x$ axis with a speed $v$.  An observer in the $K$ frame has to measure the position of both ends of the stick, simultaneously (i.e., $t=t_r=t_l$).  Using the Lorentz transformation for $x^\\prime$ given in Eqn. {eq}`lorentz_trans`, we can the length measured in the $K^\\prime$ frame as\n",
    "\n",
    "$$ L_o^\\prime = x_r^\\prime - x_l^\\prime = \\frac{(x_r-x_l)-v(t_r-t_l)}{\\sqrt{1-v^2/c^2}} $$\n",
    "\n",
    "Similar to the Eqn. {eq}`time_dilation`, we insist that $t_r-t_l=0$, and substitute the length $L= x_r-x_l$, which is the length of the meterstick that is moving in the $K^\\prime$ frame measured by the observer in the $K$ frame, to get  \n",
    "\n",
    "$$ L_o^\\prime = \\frac{L}{\\sqrt{1-v^2/c^2}} = \\gamma L.$$\n",
    "\n",
    "At rest, $L_o^\\prime = L_o$ and\n",
    "\n",
    "```{math}\n",
    ":label: length_contract\n",
    "L = \\frac{L_o}{\\gamma} = L_o \\sqrt{1-v^2/c^2}.\n",
    "``` \n",
    "\n",
    "For $v \\ll c$, $L~L_o$ and the above expression reduces to the result from Newtonian relativity.  At high speed $v\\lesssim c$ and $L<L_o$, and the meterstick appears to shrink for the observer in the $K$ frame.  This effect is known as **length** or **space contraction**.  It is also sometimes called the *Lorentz-FitzGerald contraction* because it was suggested prior to special relativity as a means to solve the electrodynamics problem.  Similar to time dilation, we can find the inverse transformation by switching the primed and unprimed quantities and change $v$ to $-v$.  Observers in both systems will say that the other moving stick is *shorter*.\n",
    "\n",
    "**Consider the previous example, but through a measurement of the distance between Earth and Proxima Centauri.  How will the crew measure the distance that they travel to get to Proxima Centauri?**\n",
    "\n",
    ">From the perspective of the crew, they are at rest and Proxima Centauri is approaching them.  The observers on Earth will measure the distance as $L_o = 4.25$ lightyears and the time to reach Proxima Centauri is 8 years.  Thus, the crew will measure a distance $L = vt$, or \n",
    ">\n",
    "> $$ v = \\frac{L}{t} = \\frac{L_o}{\\gamma t} = \\frac{L_o \\sqrt{1-v^2/c^2}}{t}. $$\n",
    ">\n",
    ">Like in the previous example for time dilation, we need to solve the above equation for the required speed $v$ to get (*verify the steps in between*)\n",
    ">\n",
    "> $$ v = \\left( \\frac{c^2L_o^2}{c^2t^2 + L_o^2} \\right)^{1/2}. $$\n",
    ">\n",
    ">The speed is the same as we found in the previous example, which shows the effects of time dilation and length contraction give identical results.  The spaceship crew measures a contracted length for the distance to Proxima Centauri as $3.25\\ {\\rm ly}$."
   ]
  },
  {
   "cell_type": "code",
   "execution_count": 21,
   "metadata": {},
   "outputs": [
    {
     "name": "stdout",
     "output_type": "stream",
     "text": [
      "The required speed is 1.41e+08 m/s or 0.469 c.\n",
      "\n",
      "The distance to Proxima Centauri according to the crew is 3.75 ly.\n"
     ]
    }
   ],
   "source": [
    "from scipy.constants import c, light_year\n",
    "import numpy as np\n",
    "\n",
    "yr_in_sec = 3600*24*365.25 #1 Earth-year in sec\n",
    "\n",
    "L_o = 4.25*light_year #distance to Proxima Centauri converted into meters\n",
    "t = 8*yr_in_sec #time to reach Proxima Centauri of 8 years converted into seconds\n",
    "\n",
    "v_req = np.sqrt((L_o**2*c**2)/(t**2*c**2+L_o**2))\n",
    "print(\"The required speed is %1.2e m/s or %1.3f c.\\n\" % (v_req,v_req/c))\n",
    "print(\"The distance to Proxima Centauri according to the crew is %1.2f ly.\" % (v_req*t/light_year))"
   ]
  },
  {
   "cell_type": "markdown",
   "metadata": {},
   "source": [
    "## Addition of Velocities\n",
    "A spaceship in the far future will use light to navigate outer space and identify potential hazards to avoid (i.e., asteroids instead of icebergs).  From Einstein's postulate 2, the light propagates at a speed $c$ in vacuum, but what happens if the spaceship is moving with a relative speed $v^\\prime$.  From Newtonian physics, we would apply the Galilean transformation and simply add the velocities, $v = v^\\prime + c$, where $v$ is the speed measured by an observer in the rest frame.  This is a problem because $v > c$!\n",
    "\n",
    "```{note}\n",
    "We reserve the letter $v$ to express the velocity of the coordinate systems with respect to each other.  The letter $u$ is used to denote the velocity of objects as measured in various coordinate systems.\n",
    "```\n",
    "\n",
    "To measure the speed correctly, we start with the *inverse* Lorentz transformations in Eqn. {eq}`lorentz_trans`.  From calculus, the $x$-velocity $u_x$ is the differential change in the position  $x$ with respect to a differential change in time $t$ (i.e., $u_x = dx/dt$).  Taking the differentials of Eqn. {eq}`lorentz_trans` (in the compact form) produces\n",
    "\n",
    "```{math}\n",
    ":label: lorentz_diff\n",
    "dx &= \\gamma\\left(dx^\\prime+vdt^\\prime\\right) \\\\\n",
    "dy &= dy^\\prime \\\\\n",
    "dz &= dz^\\prime \\\\\n",
    "dt &= \\gamma \\left[dt+\\left(v/c^2 \\right)dx\\right]\n",
    "```\n",
    "\n",
    "To define the velocities ($u_x^\\prime,\\ u_y^\\prime,\\ \\text{and}\\ u_z^\\prime$), we simply divide each cartesian differential by $dt^\\prime$ to get\n",
    "\n",
    "```{math}\n",
    ":label: lorentz_vel\n",
    "u_x &= \\frac{u_x^\\prime+v}{1+\\left(v/c^2\\right)u_x^\\prime}\\\\\n",
    "u_y &= \\frac{u_y^\\prime}{\\gamma\\left[1+\\left(v/c^2\\right)u_x^\\prime\\right]}\\\\\n",
    "u_z &= \\frac{u_z^\\prime}{\\gamma\\left[1+\\left(v/c^2\\right)u_x^\\prime\\right]}\\\\\n",
    "```\n",
    "\n",
    "Equations {eq}`lorentz_vel` are known as the **Lorentz velocity transformations**.  Notice that although the relative motion of the systems $K$ and $K^\\prime$ are along the $x$ direction that the velocities in the $y$ and $z$ directions are affected as well.  The inverse transformations for $u_x^\\prime$, $u_y^\\prime$, and $u_z^\\prime$ can be determined by switching the primed and unprimed variables and changing $v$ to $-v$.\n",
    "\n",
    "**A commander of a spaceship is holding target practice for junior officers by shooting protons of speed $u_y^\\prime = 0.99c$ off to the side at small asteroids as the spaceship passes them at a speed $v = 0.6c$.  What speed $u$ will an observer at rest measure for the protons?**\n",
    "\n",
    ">The proton's velocities in the $K^\\prime$ system are $u_x^\\prime = u_z^\\prime = 0$ and $u_y^\\prime = 0.99c$.  The speed of the spaceship in the $K^\\prime$ system is $v=0.6c$, since $K^\\prime$ denotes the moving frame.  Then we can use Eqns. {eq}`lorentz_vel` to determine the speeds $u_x$, $u_y$, and $u_z$.  First, we must determine the value for $\\gamma$, which is\n",
    ">\n",
    "> $$ \\gamma = \\frac{1}{\\sqrt{1-(0.6c)^2/c^2}} = \\frac{1}{\\sqrt{1-0.36}} = \\frac{1}{0.8} = 1.25. $$\n",
    ">\n",
    ">Next we determine each of the components using Eqns. {eq}`lorentz_vel` by\n",
    ">\n",
    ">\\begin{align*} \n",
    "u_x &= \\frac{ 0.6c}{1+(0.6c\\cdot 0c)/c^2} = 0.6 c\\\\\n",
    "u_y &= \\frac{ 0.99c}{(1.25)(1+(0.6c\\cdot 0c)/c^2)} = \\frac{0.99}{1.25} c = 0.792 c\\\\\n",
    "u_z & = \\frac{ 0}{(1.25)(1+(0.6c\\cdot 0c)/c^2)} = 0 \n",
    "\\end{align*}\n",
    ">\n",
    "> The speed $u$ determined by an observer at rest is $\\sqrt{u_x^2+u_y^2+u_z^2} = \\sqrt{(0.6c)^2+(0.792c)^2} \\approx 0.994c$."
   ]
  },
  {
   "cell_type": "markdown",
   "metadata": {},
   "source": [
    "## Experimental Verification\n",
    "\n",
    "### Muon Decay\n",
    "High-energy particles called *cosmic rays* enter Earth's atmosphere from space and interact with particles in the upper atmosphere,which create additional particles in a *cosmic shower*.  Many of the particles created are $\\pi$-mesons (i.e., [pions](https://en.wikipedia.org/wiki/Pion)), which decay into other unstable particles called [muons](https://en.wikipedia.org/wiki/Muon).  Muons decay according to the radioactive decay law \n",
    "\n",
    "$$ N(t) = N_oe^{-\\lambda t}, $$\n",
    "\n",
    "which depends on the initial number of muons $N_o$, and the decay constant $\\lambda$.  The decay constant can be written in terms of the half-life $\\tau_{1/2}$, or the time period for which half of the muons decay to the other particles (i.e., $\\lambda = \\ln 2/\\tau_{1/2}$).  The half-life of muons ($\\tau_{1/2} = 1.52\\ \\mu{\\rm s}$) is long enough that many muons survive the trip through the atmosphere to the Earth's surface.\n",
    "\n",
    "**Imagine an experiment using a muon detector on top of a mountain (2 km above sea level), where we count the number of muons traveling at a speed near $v=0.98c$.**  Suppose we count 1000 muons over a time period $t_o$.  Then, we move our detector to sea level and count approximately 540 muons over the same time period.  We ignore any other interactions that may remove muons.\n",
    "\n",
    "Muons traveling at $0.98c$ would cover the 2 km path in only $6.81\\ \\mu{\\rm s}$ (i.e., $t=d/v$), and according to our radioactive decay law, only 45 muons should survive the trip (see *python code below*).  there is obviously something wrong with the classical calculation, because we counted about $12\\times$ more muons surviving compared to the predicted amount."
   ]
  },
  {
   "cell_type": "code",
   "execution_count": 25,
   "metadata": {},
   "outputs": [
    {
     "name": "stdout",
     "output_type": "stream",
     "text": [
      "The time for the muons to reach sea level is 6.81e-06 s.\n",
      "\n",
      "The number of muons expected to be counted at sea level is 45.\n"
     ]
    }
   ],
   "source": [
    "from scipy.constants import c\n",
    "import numpy as np\n",
    "\n",
    "v_mu = 0.98*c #speed of the muons in m/s\n",
    "d_mnt = 2000 #height of the mountain in m\n",
    "mu_halflife = 1.52e-6 #half-life of muons in sec\n",
    "No_mu = 1000 #Number of muons at the top of the mountain\n",
    "\n",
    "def decay(N_o,t_half,t):\n",
    "    lamb = np.log(2)/t_half\n",
    "    return np.round(N_o*np.exp(-lamb*t),0)\n",
    "\n",
    "t_mu = d_mnt/v_mu\n",
    "N_mu = decay(No_mu,mu_halflife,t_mu)\n",
    "print(\"The time for the muons to reach sea level is %1.2e s.\\n\" % t_mu)\n",
    "print(\"The number of muons expected to be counted at sea level is %i.\" % N_mu)"
   ]
  },
  {
   "cell_type": "markdown",
   "metadata": {},
   "source": [
    "Since the muons are moving near the speed of light relative to us on Earth, the effects of time dilation will be dramatic.  In the muon rest frame the time period $T_o$ for the muons to travel 2 km (on a clock fixed with respect to the mountain) is $1.35\\ \\mu{\\rm s}$ using Eqn. {eq}`time_dilation` and the number of muons expected to be counted at sea level is 539, which is in agreement with observations (see *python code below*).  An experiment similar to this was performed in 1941 on the top of Mount Washington in New Hampshire ([Rossi & Hall 1941](http://spiff.rit.edu/classes/phys314/lectures/muon/rossi.pdf))."
   ]
  },
  {
   "cell_type": "code",
   "execution_count": 29,
   "metadata": {},
   "outputs": [
    {
     "name": "stdout",
     "output_type": "stream",
     "text": [
      "The relativistic time for the muons to reach sea level is 1.35e-06 s.\n",
      "\n",
      "The number of muons expected to be counted at sea level is 539.\n"
     ]
    }
   ],
   "source": [
    "gamma_mu = 1./np.sqrt(1-v_mu**2/c**2)\n",
    "t_mu_rel = t_mu/gamma_mu #T_o = T^\\prime/gamma using Eqn. 2.15\n",
    "N_mu_rel = decay(No_mu,mu_halflife,t_mu_rel)\n",
    "\n",
    "print(\"The relativistic time for the muons to reach sea level is %1.2e s.\\n\" % t_mu_rel)\n",
    "print(\"The number of muons expected to be counted at sea level is %i.\" % N_mu_rel)"
   ]
  },
  {
   "cell_type": "markdown",
   "metadata": {},
   "source": [
    "It is useful to examine the muon decay problem from the perspective of an observer traveling *with the muon*.  The observer would not measure the distance traveled from the top of the mountain to sea level as 2 km.  Rather this observer would say that the distance is *contracted* and is only 400 m, where the travel time to sea level is $1.35\\ \\mu{\\rm s}$ according to a clock at rest with the muon (see *python code below*).  Using the radioactive decay law, an observer traveling with the muons would still predict 539 muons to survive.  We obtain using space contraction the identical result that was determined through time dilation.  This shows both in agreement with the experiment and thus, confirms the special theory of relativity. "
   ]
  },
  {
   "cell_type": "code",
   "execution_count": 32,
   "metadata": {},
   "outputs": [
    {
     "name": "stdout",
     "output_type": "stream",
     "text": [
      "The contracted length observed in the muon's moving frame is 400 m.\n",
      "\n",
      "The time for the muons to reach sea level is 1.35e-06 s.\n",
      "\n",
      "The number of muons expected to be counted at sea level is 539.\n"
     ]
    }
   ],
   "source": [
    "L_mu = d_mnt/gamma_mu #height of mountain from muon's moving frame\n",
    "t_mu = L_mu/v_mu\n",
    "N_mu = decay(No_mu,mu_halflife,t_mu)\n",
    "\n",
    "print(\"The contracted length observed in the muon's moving frame is %i m.\\n\" % np.round(L_mu,-2))\n",
    "print(\"The time for the muons to reach sea level is %1.2e s.\\n\" % t_mu)\n",
    "print(\"The number of muons expected to be counted at sea level is %i.\" % N_mu)"
   ]
  },
  {
   "cell_type": "markdown",
   "metadata": {},
   "source": [
    "### Atomic Clock Measurement\n",
    "An [atomic clock](https://en.wikipedia.org/wiki/Atomic_clock) makes an extremely accurate measurement of time using a well-defined transition in the $^{133}{\\rm Cs}$ atom ($f = 9.192631770 \\times 10^9\\ {\\rm Hz}$).  In 1971, [Joseph Hafele](https://en.wikipedia.org/wiki/Joseph_C._Hafele) and [Richard Keating](https://en.wikipedia.org/wiki/Richard_E._Keating) used four cesium atomic clocks to test the time dilation effect.  The flew the atomic clocks (eastward and westward) on regularly scheduled commercial airplanes around the world and compared the time with a reference atomic time scale *at rest* at the [U.S. Naval Observatory](https://en.wikipedia.org/wiki/United_States_Naval_Observatory).\n",
    "\n",
    "The trip eastward took 65.4 hours with 41.2 flight hours, whereas the westward trip (taken a week later) took 80.3 hours with 48.6 flight hours.  The comparison with the special theory of relativity is complicated by the rotation of the Earth (i.e., Coriolis effect) and by a gravitational effect from the general theory of relativity.  {numref}`atomic_clock` shows the predictions and measurements report by Hafele & Keating.\n",
    "\n",
    "```{list-table} Actual relativistic predictions and experimental observations for the time differences (Hefele & Keating [1972a](https://ui.adsabs.harvard.edu/abs/1972Sci...177..168H/abstract); [1972b](https://ui.adsabs.harvard.edu/abs/1972Sci...177..166H/abstract)).\n",
    ":header-rows: 1\n",
    ":name: atomic_clock\n",
    "\n",
    "* - Travel\n",
    "  - Predicted (${\\rm ns}$)\n",
    "  - Observed (${\\rm ns}$)\n",
    "* - Eastward\n",
    "  - $-40 \\pm 23$\n",
    "  - $-59 \\pm 10$\n",
    "* - Westward\n",
    "  - $275 \\pm 21$\n",
    "  - $273 \\pm 7$\n",
    "```\n",
    "\n",
    "A negative time indicates that the time on the moving clock is *less* than the reference clock.  The moving clocks lost time (i.e., ran slower) during the eastward trip, but gained time (i.e., ran faster) during the westward trip.  The special theory of relativity is verified with the experimental uncertainties.\n",
    "\n",
    "**In 1985, [Challenger](https://en.wikipedia.org/wiki/Space_Shuttle_Challenger) flew a cesium clock and compared its time with a fixed clock left on Earth.  The shuttle orbited at approximately 330 km above Earth's surface.**\n",
    "\n",
    "**(a) Calculate the expected time lost per second for the moving clock and compare with the measured result of $-295.02 \\pm 0.29\\ {\\rm ps/s}$, which includes a predicted effect due to general relativity of $35.0 \\pm 0.06\\ {\\rm ps/s}$.**\n",
    "\n",
    ">This is a straightforward application of the time dilation effect after making some simplifying assumptions.  These are necessary because the space shuttle is moving in a noninertial system (orbiting around Earth).  We assume that the space shuttle travels in a straight line with respect to Earth and the two events in the calculations are the shuttle passing the launch and landing points. We are not including the effects of general relativity.\n",
    ">\n",
    ">We can calculate the orbital speed of the shuttle with respect to Earth's surface (ignoring Earth's rotation), which allows us to determine the relativistic factor $\\gamma$.  The shuttle's velocity $v$ is much less than the speed of light $c$ and thus, we expect that $\\gamma \\approx 1$.  However, we must not round because that would remove the *small* effect that we are trying to determine.\n",
    ">\n",
    ">We let $T$ be the time measured by the clock fixed on Earth, and then we determine the the proper time $T_o^\\prime$ measured by the clock in the space shuttle (Eqn. {eq}`time_dilation`).  The time difference is \n",
    ">\n",
    ">$$ \\Delta T = T-T_o^\\prime = T-\\frac{T}{\\gamma} = T\\left(1-\\frac{1}{\\gamma}\\right). $$\n",
    ">\n",
    ">The time lost per second is the ratio of the time difference with the time measured by the clock fixed on Earth.  This gives,\n",
    ">\n",
    ">$$ \\frac{\\Delta T}{T} = \\frac{\\gamma-1}{\\gamma} = 3.3092 \\times 10^{-10} = 330.92\\ {\\rm ps/s}.$$\n",
    ">\n",
    ">In this case $\\Delta T$ is positive, which indicates that the space shuttle clock lost this fraction of time.  The moving clock lost $330.92\\ {\\rm ps}$ for each second of motion.  The total measured result was a loss of $295.02 \\pm 0.29\\ {\\rm ps/s}$, but we must add the general relativity prediction to the measured value to obtain the result due only to special relativity.  The measured special relativity result is $330.02\\ {\\rm ps/s}$, which differs from our estimate by only $0.27\\%$!"
   ]
  },
  {
   "cell_type": "code",
   "execution_count": 46,
   "metadata": {},
   "outputs": [
    {
     "name": "stdout",
     "output_type": "stream",
     "text": [
      "The time difference per second on the space shuttle is 3.3092e-10.\n",
      "\n",
      "The measured time difference per second on the space shuttle due to special relativity alone is 3.3002e-10.\n",
      "\n",
      "The percent error of our estimate is only 0.27 percent.\n"
     ]
    }
   ],
   "source": [
    "from scipy.constants import G, c\n",
    "import numpy as np\n",
    "\n",
    "M_Earth = 5.9722e24 #mass of the Earth in kg\n",
    "R_Earth = 6371e3 #radius of the Earth in m\n",
    "h_shuttle = 330e3 #height of shuttle above the surface\n",
    "v_shuttle = np.sqrt(G*M_Earth/(R_Earth+h_shuttle)) #speed of shuttle relative to Earth's surface (ignoring Earth's rotation)\n",
    "\n",
    "gamma_shuttle = 1./np.sqrt(1.-v_shuttle**2/c**2)\n",
    "dT_T = (gamma_shuttle-1)/gamma_shuttle \n",
    "print(\"The time difference per second on the space shuttle is %1.4e.\\n\" % dT_T)\n",
    "\n",
    "dT_T_meas = -2.9502e-10 #measured result with the GR effect\n",
    "dT_T_GR = 3.5e-11 #predicted effect due to GR\n",
    "dT_T_meas_noGR = np.abs(dT_T_meas - dT_T_GR)\n",
    "print(\"The measured time difference per second on the space shuttle due to special relativity alone is %1.4e.\\n\" % dT_T_meas_noGR)\n",
    "\n",
    "pct_err = np.round(np.abs((dT_T_meas_noGR-dT_T)/dT_T_meas_noGR)*100.,2)\n",
    "print(\"The percent error of our estimate is only %1.2f percent.\" % pct_err)"
   ]
  },
  {
   "cell_type": "markdown",
   "metadata": {},
   "source": [
    "**(b) How much time would the clock lose due to special relativity alone during the entire shuttle flight that lasted 7 days?**\n",
    "\n",
    ">The total time of the seven-day mission was $6.048 \\times 10^5\\ {\\rm s}$ and the total time difference between the clock is \n",
    ">\n",
    "> $$ \\frac{\\Delta T}{T} \\times t_{mission} = (3.3092 \\times 10^{-10}) \\times (6.048 \\times 10^5\\ \\text{s}) = 2 \\times 10^{-4}\\ {\\rm s} = 0.2\\ {\\rm ms},$$\n",
    ">\n",
    ">which is easily detected by cesium clocks."
   ]
  },
  {
   "cell_type": "code",
   "execution_count": 48,
   "metadata": {},
   "outputs": [
    {
     "name": "stdout",
     "output_type": "stream",
     "text": [
      "The time lost over the 7 day mission was 2.0e-04 s.\n"
     ]
    }
   ],
   "source": [
    "mission_dur = 7.*24*3600 #mission duration in sec\n",
    "tlost_mission = mission_dur*dT_T #total time lost\n",
    "print(\"The time lost over the 7 day mission was %1.1e s.\" % tlost_mission)"
   ]
  },
  {
   "cell_type": "markdown",
   "metadata": {},
   "source": [
    "### Velocity Addition\n",
    "[Alv&auml;ger et al. (1964)](https://ui.adsabs.harvard.edu/abs/1964PhL....12..260A/abstract) used a beam of almost 10 Gev protons to strike a target to produce neutral pions ($\\pi^0$) having energies of more than 6 GeV at the CERN nuclear and particle physics research facility on the border of Switzerland and France.  The neutral pions have a very short half-life, quickly decay into two $\\gamma$ rays, and are moving very fast ($\\beta \\approx 0.99975c$).  In the rest frame of the neutral pions, the two $\\gamma$ rays exit the reaction in opposite directions.  The experimenters measured the velocity of the $\\gamma$ rays going close ($6^\\circ$) to the forward direction ($0^\\circ$) in the laboratory. The Galilean addition velocities would require the velocity of the $\\gamma$ rays to be: $u = 0.99975c + c = 1.99975c$ (i.e., the velocity of the $\\pi^0$ added to the $\\gamma$ moving at $c$).  \n",
    "\n",
    "The velocity of the $\\pi^0$ rest frame with respect to the laboratory is $v=0.99975c$ and the velocity $u_x^\\prime=c$ describes the velocity of the $\\gamma$ rays in the rest frame of the $\\pi^0$.  Equation {eq}`lorentz_vel` gives the relativistic velocity addition to predict the velocity $u_x$ of the $\\gamma$ rays measured in the laboratory as\n",
    "\n",
    "$$ u_x = \\frac{c + 0.99975c}{1+\\frac{(0.99975c)c}{c^2}} = c. $$\n",
    "\n",
    "The $x$ direction is along the path of a $\\gamma$ ray in the forward direction and thus, $u_y = u_y^\\prime = u_z = u_z^\\prime =  0$.  The experimental measurement was accomplished by measuring the time taken for the $\\gamma$ rays to travel between two detectors placed ~30 m apart and was in excellent agreement with the relativistic prediction.  We again have conclusive evidence for the need for the special theory of relativity."
   ]
  },
  {
   "cell_type": "markdown",
   "metadata": {},
   "source": [
    "## Twin Paradox\n",
    "One of the most interesting topics in relativity is the [twin paradox](https://en.wikipedia.org/wiki/Twin_paradox).  **Suppose there exists a pair of identical twins, where one twin sets out on a spaceship to study $\\alpha$ Centauri (4.37 ly away).**  The **m**oving twin on the spaceship travels at very high speeds to reach the star and returns within 12 years.  The biological clock of the moving twin on the spaceship ticks more slowly than the **f**ixed twin that remained on Earth.  The paradox allows for these scenarios:\n",
    "\n",
    "1. From the **f**ixed twin's perspective, the moving twin should return having aged less than the fixed twin.\n",
    "2. From the **m**oving twin's perspective, the fixed twin will be the younger.  \n",
    "3. Moreover, one could argue that because nature cannot allow both possibilities, it must be true that symmetry prevails and that the twins will still be the same age.\n",
    "\n",
    "The correct answer is options 1, where the **m**oving twin should return as the younger twin.  According to the **f**ixed twin, the spaceship takes off from Earth and quickly reaches its travel speed of $0.8c$.  The travel time to the star is 5.46 years and the total travel time is 10.92 years.  If the twins were 30 years old on departure, then the **f**ixed twin on Earth would be ~41 years on the spaceship's return.  The travel time to $\\alpha$ Centauri for the **m**oving twin is only $5.46\\sqrt{1-0.8^2}\\ {\\rm yr} = 3.28\\ {\\rm yr}$.  Therefore the **m**oving twin will only be 36.5 years old when returning with respect to the the **f**ixed twin's clock at rest.\n",
    "\n",
    "The important fact here is that the **f**ixed twin's clock is in an inertial system during the entire trip, where the **m**oving twin's clock is not.  The **m**oving twin eventually leaves the original inertial system to slow down and turn around.  The **f**ixed twin feels no additional acceleration during the trip, but the **m**oving twin will feel a positive and negative acceleration to turn around."
   ]
  },
  {
   "cell_type": "markdown",
   "metadata": {},
   "source": [
    "## Spacetime\n",
    "It is sometimes convenient to represent events on a [spacetime diagram](https://en.wikipedia.org/wiki/Spacetime_diagram).  For simplicity, we use only one spatial coordinate $x$ along the horizontal axis and use $ct$ instead of time along the vertical axis, so that both coordinates will have dimensions of length.\n",
    "\n",
    "```{figure-md} spacetime-fig\n",
    "<img src=\"https://upload.wikimedia.org/wikipedia/commons/c/c2/Minkowski_diagram_-_photon.svg\" alt=\"spacetime\"  width=\"300px\">\n",
    "\n",
    "The world line (yellow path) of a photon, which is at location x = 0 at time ct = 0. Image credit: [wikipedia](https://en.wikipedia.org/wiki/Spacetime_diagram)\n",
    "```\n",
    "\n",
    "[Hermann Minkowski](https://en.wikipedia.org/wiki/Hermann_Minkowski) first used spacetime diagrams in 1908 and are often called **Minkowski diagrams**.  An event specifies 3 spatial coordiantes ($x,\\ y,\\ \\&\\ z$) at a point in time $t$.  this is the origin of the term *fourth dimension* for time.  In our spacetime, we eliminate two spatial dimensions to define two events $A$ and $B$ as ($x_A,\\ ct_A$) and ($x_B,\\ ct_B$), respectively.  The line connecting events A and B is called a **worldline**.  A  light signal launched from the origin ($0,\\ 0$) follows a straight line that at $45^\\circ$ as shown in Figure {numref}`{number}<spacetime-fig>`.  An object moving with a velocity less than $c$ would simply have a different slope ($c/v$).\n",
    "\n",
    "The spacetime diagram relates position and simultaneity of events.  **Suppose two photons are released from the origin, one in the positive $x$ direction and the other in the negative $x$ direction.**  Both photons are moving forward in time (i.e., the future), therefore the $ct$ coordinate will be positive.  How do we know that two events occur simultaneously  Simultaneous events will share the same vertical coordinate $ct$, or a horizontal line connects the two worldlines.  If one event occurs in a moving reference frame, then the two events cannot be simultaneous due to the Lorentz transformation.  Since the $x$ coordinate of each event are different, then the $ct$ of the respective events are not equal either.  Note that a negative $ct$ coordinate denotes an event that occurs in the past.\n",
    "\n",
    "If we add another spatial coordinate $y$ to our spacetime coordinates, we will have a cone, which is known as a **light cone**.  All causal events related to the present $(x=0,\\ ct = 0$) must be within the light cone.  Figure {numref}`{number}<lightcone-fig>` shows a light cone with events A, B, and C.  Event B lies within the light cone of the present (A) and is causally linked, where event C is outside of the light cone and cannot possibly affect event B.\n",
    "\n",
    "```{figure-md} lightcone-fig\n",
    "<img src=\"https://openstax.org/apps/archive/20220325.143432/resources/cbd9b38e7c9b172a5118c7899933962ee1c4e03e\" alt=\"lightcone\"  width=\"300px\">\n",
    "\n",
    "The light cone consists of all the world lines followed by light from the event A at the vertex of the cone. Image credit: [OpenStax: University Physics Vol. 3](https://openstax.org/books/university-physics-volume-3/pages/5-5-the-lorentz-transformation)\n",
    "```\n",
    "\n",
    "**Invariant** quantities have the same value in all inertial frames, where they serve a special role in physics because their values do not change from one system to another (e.g., the speed of light is invariant).  In Euclidean geometry, we define the distance $d$ through $d^2 = x^2 + y^2 + z^2$ and can obtain the same result for $d^2$ in any inertial frame of reference.  In spacetime, we can define a distance using a similar form for two systems $K$ and $K^\\prime$ as\n",
    "\n",
    "\\begin{align}\n",
    "s^2 &= x^2 -(ct)^2, \\\\\n",
    "s^{\\prime 2} &= x^{\\prime 2} -(ct^\\prime)^2.\n",
    "\\end{align}\n",
    "\n",
    "If we use the Lorentz transformation for $x$ and $t$, we find that $s^2 = s^{\\prime 2}$, which makes **$\\mathbf{s^2}$ an invariant quantity**.  This relationship can be extended to include the two other spatial coordinates, $y$ and $z$, so that\n",
    "\n",
    "\\begin{align}\n",
    "s^2 &= x^2 + y^2 + z^2 -(ct)^2.\n",
    "\\end{align}"
   ]
  },
  {
   "cell_type": "markdown",
   "metadata": {},
   "source": [
    "## Doppler Effect"
   ]
  },
  {
   "cell_type": "markdown",
   "metadata": {},
   "source": [
    "## Relativistic Momentum"
   ]
  },
  {
   "cell_type": "markdown",
   "metadata": {},
   "source": [
    "## Relativistic Energy"
   ]
  },
  {
   "cell_type": "markdown",
   "metadata": {},
   "source": [
    "## Computations in Modern Physics"
   ]
  },
  {
   "cell_type": "markdown",
   "metadata": {},
   "source": [
    "## Electromagnetism and Relativity"
   ]
  }
 ],
 "metadata": {
  "interpreter": {
   "hash": "cd2e115bae0bd8507f53973663b16a6c8b1a6736f2a0b1c5bcd962a446a2698e"
  },
  "kernelspec": {
   "display_name": "Python 3.8.8 64-bit ('base': conda)",
   "name": "python3"
  },
  "language_info": {
   "codemirror_mode": {
    "name": "ipython",
    "version": 3
   },
   "file_extension": ".py",
   "mimetype": "text/x-python",
   "name": "python",
   "nbconvert_exporter": "python",
   "pygments_lexer": "ipython3",
   "version": "3.8.8"
  },
  "orig_nbformat": 4
 },
 "nbformat": 4,
 "nbformat_minor": 2
}
