{
 "cells": [
  {
   "cell_type": "markdown",
   "metadata": {},
   "source": [
    "# Who are these notes for?\n",
    "\n",
    "This Jupyter Book should be useful for:\n",
    "\n",
    "- Upper-level undergraduates with some *introductory* background in modern astrophysics\n",
    "\n",
    "- Graduate students and researchers in astrophysics\n",
    "\n",
    "- Anyone else with some astronomy or physics background who is interested!\n",
    "\n",
    "## Interacting with the Book\n",
    "The code snippets in the book are all written in Python through Jupyter notebooks. Familiarity with the Python language and its scientific packages is useful, but not required.  There are introductory guides to [Python](https://saturnaxis.github.io/ModernAstro/Preamble/Python-basics.html) and [Markdown](https://saturnaxis.github.io/ModernAstro/Preamble/Markdown-basics.html) in the **Preamble**.\n",
    "\n",
    "This book is meant to be interactive, where you can open each chapter using [Google Colab](https://research.google.com/colaboratory/) (see below) from the dropdown menu shown with a rocket.  The runtime on Google Colab uses a version of Python that already has many useful packages (e.g., numpy, scipy, pandas, etc.) available with an import statement.  Each cell can be modified and executed for your curiosity.  Also, the text cells can be opened to reveal the source markup and formatting.\n",
    "\n",
    "\n",
    "<div align=\"center\">\n",
    "\n",
    "<img src=\"https://github.com/saturnaxis/ModernAstro/blob/main/Preamble/Figure_1.jpg?raw=true?\" width=\"500\">\n",
    "\n",
    "Launch Colab button that is available at the top of the screen.\n",
    "\n",
    "</div>\n",
    "\n",
    "## Cloning the Book\n",
    "\n",
    "All of the source material is publicly available in a GitHub repository [saturnaxis/ModernAstro](https://github.com/saturnaxis/ModernAstro).  The open source nature of GitHub [![GitHub](https://img.shields.io/badge/--181717?logo=github&logoColor=ffffff)](https://github.com/) allows you to clone the book to have a local copy.  Note that this book is also meant to be a **living document**, where the content will continue to evolve and collaboration is welcome.\n",
    "\n",
    "## How to cite and reuse this material\n",
    "\n",
    "The material is licensed for permissive re-use under the\n",
    "[Creative Commons Attribution 4.0 International (CC BY 4.0)](https://creativecommons.org/licenses/by/4.0/)\n",
    "license. This means you are free to share and adapt this material under the condition that\n",
    "you give appropriate credit to the original author (Billy Quarles) or source material ([Bradley Carroll & Dale Ostlie](https://ui.adsabs.harvard.edu/abs/2006ima..book.....C/abstract)) as appropriate.\n",
    "\n",
    "Every release of the [source code repository](https://github.com/saturnaxis/ModernAstro)\n",
    "is archived with a DOI:\n",
    "[![DOI](https://zenodo.org/badge/440317707.svg)](https://zenodo.org/badge/latestdoi/440317707)\n",
    "\n",
    "You can use this DOI to cite anything in the source code\n",
    "(including code and calculations in the notebooks that comprise each chapter).\n",
    "\n"
   ]
  }
 ],
 "metadata": {
  "interpreter": {
   "hash": "cd2e115bae0bd8507f53973663b16a6c8b1a6736f2a0b1c5bcd962a446a2698e"
  },
  "kernelspec": {
   "display_name": "Python 3.8.8 64-bit ('base': conda)",
   "name": "python3"
  },
  "language_info": {
   "codemirror_mode": {
    "name": "ipython",
    "version": 3
   },
   "file_extension": ".py",
   "mimetype": "text/x-python",
   "name": "python",
   "nbconvert_exporter": "python",
   "pygments_lexer": "ipython3",
   "version": "3.8.8"
  },
  "orig_nbformat": 4
 },
 "nbformat": 4,
 "nbformat_minor": 2
}
