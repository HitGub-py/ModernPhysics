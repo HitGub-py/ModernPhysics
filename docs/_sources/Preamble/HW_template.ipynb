{
 "cells": [
  {
   "cell_type": "markdown",
   "metadata": {},
   "source": [
    "# Homework Assignments\n",
    "\n",
    "## Expectations\n",
    "\n",
    "All homework assignments will be completed using [Jupyter](https://jupyter.org/) notebooks, where you will submit your source file (\\*.ipynb) and a compiled file (\\*.pdf).  The filename for each submission will be in the following format \"PHYS2700_Chpt#_LastName\", where the \"#\" character is replaced the appropriate chapter number.  Jupyter notebooks allow you to create code cells in [Python](https://docs.python.org/3/tutorial/) and non-code cells in [Markdown](https://www.markdownguide.org/basic-syntax/).  There are short guides in the Preamble that will help you. \n",
    "\n",
    "A complete homework problem contains a *detailed explanation* that describes the process by which you arrived at the solution.  You will not receive full credit for simply reporting the final answer.  To describe the process, you will use the math mode in $\\LaTeX$ to display equations, numbers in scientific notation, and variables.  A guide to the various commands can be found [here](https://joshua.smcvt.edu/undergradmath/undergradmath.pdf)."
   ]
  },
  {
   "cell_type": "markdown",
   "metadata": {},
   "source": [
    "## Homework Style\n",
    "\n",
    "The homework assignments should match the following style:\n",
    "\n",
    "1. The homework title is the top level section (#).\n",
    "2. Each homework problem is the next level section(##)\n",
    "3. The text following the homework problem is a verbatim copy of the text from the respective problem in **bold**.\n",
    "4. Your detailed explanation is written in normal text, where in-line math mode (single \\$) or display math mode (double \\$) is used appropriately.\n",
    "5. The final result is displayed in **bold**.\n",
    "6. Code cells that recreate your solution are encouraged (but not required) and are placed just after your detailed explanation.\n",
    "   \n",
    "The next section provides a template to help you see the described style."
   ]
  },
  {
   "cell_type": "markdown",
   "metadata": {},
   "source": [
    "# Chapter 2\n",
    "\n",
    "## Problem 1\n",
    "**Show that the form of Newton's second law is invariant under the Galilean transformation.**\n",
    "\n",
    "Newton's second law describes the force $\\vec{F}$ applied on a object with a mass $m$.  The force accelerates the object, which means that the velocity $\\vec{v}$ changes with time.  This can be represented mathematically as\n",
    "\n",
    "$$ \\vec{F} = m\\frac{d\\vec{v}}{dt} = m\\frac{d^2\\vec{x}}{dt^2}.  $$\n",
    "\n",
    "A Galilean transformation represents a translation between reference frames, and for simplicity, we limit this to one dimension (i.e., $\\vec{x}\\rightarrow x$).  Suppose there are two reference frames: a fixed frame $K$ and a moving frame $K^\\prime$ that slides along the $x$-axis at a *constant* velocity $v$. Then the Galilean transformation between the frames is\n",
    "\n",
    "$$x^\\prime = x - vt, $$\n",
    "\n",
    "where the position in the $K^\\prime$ frame is given by $x^\\prime$ after a time $t$.  Newton's second law in the $K$ frame is \n",
    "\n",
    "$$ F = m \\frac{d^2x}{dt^2}, $$\n",
    "\n",
    "and we can find an equivalent expression in the $K^\\prime$ frame through the substitution $x = x^\\prime + vt$ to get\n",
    "\n",
    "$$ F^\\prime = m \\frac{d^2}{dt^2}\\left(x^\\prime + vt\\right). $$\n",
    "\n",
    "First, we evaluate the right hand side to get\n",
    "\n",
    "$$ \\frac{d^2}{dt^2}\\left(x^\\prime + vt\\right) = \\frac{d^2x^\\prime}{dt^2} + \\frac{d^2}{dt^2}\\left(vt\\right). $$\n",
    "\n",
    "Since the $K^\\prime$ frame is moving with a *constant* velocity, then the second derivative of $vt$ is equal to zero, or\n",
    "\n",
    "$$ \\frac{d^2}{dt^2}\\left(vt\\right) = \\frac{dv}{dt} = 0, $$\n",
    "\n",
    "because the derivative of a constant is zero.  **This leaves our transformed version of Newton's second law as**\n",
    "\n",
    "$$ F^\\prime  = m\\frac{d^2x^\\prime}{dt^2}, $$\n",
    "\n",
    "**which is an equivalent form of Newton's second law in the $K$ frame.  Therefore, Newton's second law is invariant under the Galilean transformation $(F=F^\\prime)$.**"
   ]
  }
 ],
 "metadata": {
  "interpreter": {
   "hash": "cd2e115bae0bd8507f53973663b16a6c8b1a6736f2a0b1c5bcd962a446a2698e"
  },
  "kernelspec": {
   "display_name": "Python 3.8.8 64-bit ('base': conda)",
   "name": "python3"
  },
  "language_info": {
   "codemirror_mode": {
    "name": "ipython",
    "version": 3
   },
   "file_extension": ".py",
   "mimetype": "text/x-python",
   "name": "python",
   "nbconvert_exporter": "python",
   "pygments_lexer": "ipython3",
   "version": "3.8.8"
  },
  "orig_nbformat": 4
 },
 "nbformat": 4,
 "nbformat_minor": 2
}
