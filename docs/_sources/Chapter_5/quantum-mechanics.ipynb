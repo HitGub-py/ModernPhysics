{
 "cells": [
  {
   "cell_type": "markdown",
   "metadata": {},
   "source": [
    "# Wave and Quantum Mechanics\n"
   ]
  },
  {
   "cell_type": "markdown",
   "metadata": {},
   "source": [
    "## X-Ray Scattering\n",
    "R&ouml;ntgen's discovery of x-rays excited efforts to determine the nature and origin of the new *penetrating* radiation. in the early 1900s, [Charles Barkla](https://en.wikipedia.org/wiki/Charles_Glover_Barkla) discovered that each elements x-rays of characteristic wavelengths and that x-rays exhibit properties of polarization.\n",
    "\n",
    "It became clear that x-rays had wave properties and were a form of EM radiation.  X-ray wavelengths are much shorter than those of visible light, which made it difficult to refract or diffract them like earlier experiments with visible light. Wien and Sommerfeld had estimated the wavelength of an x-ray to be $0.01-0.1\\ {\\rm nm}$.  Knowing the distance between atoms in a crystal ($\\sim 0.1\\ {\\rm nm}$), [Max von Laue](https://en.wikipedia.org/wiki/Max_von_Laue) made the suggestion that x-rays should scatter from the atoms of crystals.  He proposed that if x-rays were a form of EM radiation, then interference effects should be observed.  Furthermore, he identified that crystals might act as three-dimensional gratings that could scatter thew waves and produce the observable interference effects.\n",
    "\n",
    "```{note}\n",
    "From the study of optics, we know that wave properties are most easily demonstrated when the sizes of apertures or obstructions are on the same order as the wavelength of light.  We use gratings in optics to separate light by diffraction into different wavelengths.\n",
    "```\n",
    "\n",
    "```{figure-md} vonLaue-schematic-fig\n",
    "<img src=\"https://physicsopenlab.org/wp-content/uploads/2018/01/laueSetup.jpg\" alt=\"vonLaue-schematic\"  width=\"400px\">\n",
    "\n",
    "Image credit: [PhysicsOpenLab](https://physicsopenlab.org/2018/01/18/laue-diffraction/)\n",
    "```\n",
    "\n",
    "```{figure-md} salt-crystal-fig\n",
    "<img src=\"https://physicsopenlab.org/wp-content/uploads/2018/02/NaCl7.png\" alt=\"salt crystal\"  width=\"400px\">\n",
    "\n",
    "The Laue diagram of a NaCl (100) single crystal with a face-center cubic crystal lattice (fcc). Image credit: [PhysicsOpenLab](https://physicsopenlab.org/2018/01/18/laue-diffraction/)\n",
    "```\n",
    "\n",
    "von Laue designed an experiment to perform a test his hypothesis.  He convinced his assistants (Walter Friedrich and Paul Knipping) to perform the measurement.  When they rotated the crystals, the positions and intensities of the diffraction were shown to change.  Though the purposed of von Laue's experiment was to prove the wave nature of x-rays, he demonstrated the lattice structure of crystals too.  The lattice structure of crystals led to the origin of solid-state physics and the development of modern electronics.\n",
    "\n",
    "[William Henry Bragg](https://en.wikipedia.org/wiki/William_Henry_Bragg) and his son, [William Lawrence Bragg](https://en.wikipedia.org/wiki/Lawrence_Bragg), fully exploited the wave nature of x-rays and simplified von Laue's analysis.  Bragg (the son) pointed out that each of the images surrounding the bright central spot of von Laue's photographs could be the reflection of the incident x-ray beam from a unique set of atoms within the crystal.  Each dot in the pattern corresponds to different ste of planes in the crystal.\n",
    "\n",
    "*Is x-ray scattering from atoms within crystals consistent with what we know from classical physics?*  From classical EM theory, we know that the oscillating electric field polarizes an atom.  The result is an asymmetric chared distribution, or electric dipole.  An electric dipole that oscillates at same frequency as the incident wave will in turn re-radiate EM radiation at the same frequency in the form of spherical waves.  The spherical waves travel through the crystal, constructively or destructively interfering as the waves pass through different directions in the crystal.\n",
    "\n",
    "```{figure-md} bragg-planes-fig\n",
    "<img src=\"https://openstax.org/apps/archive/20220422.171947/resources/0b1d4462477af746a008a810fc327a6cc054a786\" alt=\"bragg planes\"  width=\"400px\">\n",
    "\n",
    "The crystal structure of $\\rm NaCl$ (rock salt) showing two of the possible sets of Bragg planes. Image credit: [OpenStax: University Physics Vol 3](https://openstax.org/books/university-physics-volume-3/pages/4-6-x-ray-diffraction)\n",
    "```\n",
    "\n",
    "**Consider x-rays scattered from a rock salt crystal ($\\rm NaCl$).**  Through Bragg's simplification, we can determine the conditions necessary for constructive interference.  Lattice planes (or **Bragg planes**) exist within the crystal structure of $\\rm NaCl$, where an incident plane wave (of wavelength $\\lambda$) can scatter from two adjacent planes.  There are tow conditions for constructive interference of the x-rays:\n",
    "\n",
    "1. The angle of incidence must equal the angle of reflection of the outgoing wave (i.e., from optics).\n",
    "2. The difference in path lengths $(2d\\sin \\theta)$ must be an integral number of wavelengths.\n",
    "\n",
    "Condition 2 is known as **Bragg's law** and can be written mathematically by\n",
    "\n",
    "```{math}\n",
    ":label: Braggs_law\n",
    "n\\lambda = 2d \\sin \\theta, \\quad (n= \\text{integer}),\n",
    "```\n",
    "\n",
    "which depends on the distance $d$ between lattice planes (or interatomic spacing).  The integer $n$ is called the *order of reflection*, following from the terminology of ruled diffraction gratings in optics.  \n",
    "\n",
    "```{figure-md} scattering-schematic-fig\n",
    "<img src=\"https://openstax.org/apps/archive/20220422.171947/resources/1bfd3daa012e6eb87d9fa885f8255dfc69c47682\" alt=\"scattering schematic\"  width=\"400px\">\n",
    "\n",
    "X-ray diffraction with a crystal. Two incident waves reflect off two planes of a crystal. The difference in path lengths is indicated by the dashed line. Figure credit: [OpenStax: University Physics Vol 3](https://openstax.org/books/university-physics-volume-3/pages/4-6-x-ray-diffraction)\n",
    "```\n",
    "\n",
    "Bragg's law is useful for determining either the wavelength $\\lambda$ of the x-rays or the interplanar spacing $d$ (if $\\lambda$ is known).  The Braggs (father and son) shared the 1915 Nobel Prize.  A *Bragg sprectrometer* measures how x-rays are scattered in a crystal, where the intensity of the diffracted beam is determined as a function of the scattering angle by rotating the crystal and detector. \n",
    "\n",
    "```{figure-md} Bragg-spectrometer-fig\n",
    "<img src=\"braggspec.png\" alt=\"Bragg spectrometer\"  width=\"400px\">\n",
    "\n",
    "Schematic of a Bragg spectrometer.  X-rays are produced by electron bombardment of a metal target within the x-ray tube.  The x-rays are collimated by lead, scatter from a crystal, and are detected as a function of the angle $2\\theta$. Image credit: [Hyperphysics](http://hyperphysics.phy-astr.gsu.edu/hbase/quantum/bragg.html)\n",
    "```\n",
    "\n",
    "von Laue diffraction is primarily used to determine the orientation of *single* crystals by mounting large crystals in a precisely known orientation.  White light (i.e., light containing many colors) is projected parallel to a high symmetry direction of the crystal, where arrays of interference maxima spots are produced to indicate a particular plane in the crystal.  Bragg and von Laue x-ray diffraction techniques tell su almost everything we know about the structures of solids liquids and even DNA.\n",
    "\n",
    "Small crystals can be ground into a powdered form, where the small crystals will then have random orientations.  When a beam of x-rays passes through the powder, the interference maxima appear as a series of rings.  This process is called **powder x-ray diffraction** (XRD) and is widely used (in [crystallography](https://en.wikipedia.org/wiki/Crystallography)) to determine the structure of unknown solids."
   ]
  },
  {
   "cell_type": "markdown",
   "metadata": {},
   "source": [
    "```{admonition} *Example Problem*\n",
    "**X-rays scattered from rock salt $(\\rm NaCl)$ are observed to have an intense maximum at an angle of $20^\\circ$ from the incident direction.  Assuming $n=1$ (from the intensity), what must be the wavelength of the incident direction?**\n",
    "\n",
    "To find $\\lambda$, we can use *Bragg's law* (Eqn. {eq}`Braggs_law`).  We need to know the lattice spacing $d$ and the angle $\\theta$.  The angle for the maximum intensity corresponds to the angle needed for *constructive* interference, which is always $2\\theta$.  Therefore, we have $\\theta = 10^\\circ$.  The density $\\rho$ of [$\\rm NaCl$ ](https://en.wikipedia.org/wiki/Sodium_chloride) is $2.16\\ {\\rm g/cm^3}$ and its molar mass $M$ is $58.5\\ {\\rm g/mol}$.  These values are needed to find the lattice spacing $d$, where the relation to Avogadro's number $N_A$ to number density was shown in Section {numref}`{number}<atomic_models>`.  The number density of $\\rm NaCl$ is\n",
    "\n",
    "\\begin{align*}\n",
    "\\frac{N_A\\rho}{M} &= \\frac{(6.02 \\times 10^{23}\\ {\\rm molecules/mol})(2.16\\ {\\rm g/cm^3})}{58.5\\ {\\rm g/mol}}, \\\\\n",
    "&= 2.22 \\times 10^{22}\\ \\frac{\\rm molecules}{\\rm cm^3} = 4.45 \\times 10^{22}\\ \\frac{\\rm atoms}{\\rm cm^3}, \\\\\n",
    "& = 4.45 \\times 10^{28}\\ \\frac{\\rm atoms}{\\rm m^3}.\n",
    "\\end{align*}\n",
    "\n",
    "Since $\\rm NaCl$ has a cubic array, we take $d$ as the lattice spacing, where\n",
    "\n",
    "$$ d = (4.45 \\times 10^{28}\\ \\frac{\\rm atoms}{\\rm m^3})^{-1/3} = 2.82 \\times 10^{-10}\\ {\\rm m} = 0.282\\ {\\rm nm}. $$\n",
    "\n",
    "This technique for calculating lattice spacing works only for a few cases because of the variety of crystal structures (many of which are noncubic).  Now, we can use Bragg's law to find $\\lambda$ (with $n=1$) as\n",
    "\n",
    "$$ \\lambda = \\frac{2d \\sin \\theta}{n} = 2(0.282\\ {\\rm nm}) \\sin 10^\\circ = 0.098\\ {\\rm nm}, $$\n",
    "\n",
    "which is a typical x-ray wavelength.  $\\rm NaCl$ is a useful crystal for determining x-ray wavelengths and for calibrating an experimental apparatus.\n",
    "\n",
    "```"
   ]
  },
  {
   "cell_type": "markdown",
   "metadata": {},
   "source": [
    "## De Broglie Waves\n",
    "\n",
    "### Bohr's Quantization Condition"
   ]
  },
  {
   "cell_type": "markdown",
   "metadata": {},
   "source": [
    "## Electron Scattering"
   ]
  },
  {
   "cell_type": "markdown",
   "metadata": {},
   "source": [
    "## Wave Motion"
   ]
  },
  {
   "cell_type": "markdown",
   "metadata": {},
   "source": [
    "## Waves or Particles"
   ]
  },
  {
   "cell_type": "markdown",
   "metadata": {},
   "source": [
    "## Uncertainty Principle"
   ]
  },
  {
   "cell_type": "markdown",
   "metadata": {},
   "source": [
    "## Probability, Wave Functions, and the Copenhagen Interpretation\n",
    "\n",
    "### The Copenhagen Interpretation"
   ]
  },
  {
   "cell_type": "markdown",
   "metadata": {},
   "source": [
    "## Particle in a Box"
   ]
  },
  {
   "cell_type": "markdown",
   "metadata": {},
   "source": [
    "## The Schr&ouml;dinger Wave Equation\n",
    "\n",
    "### Normalization and Probability\n",
    "\n",
    "### Properties of Valid Wave Functions\n",
    "\n",
    "### Time-Independent Schr&ouml;dinger Wave Equation"
   ]
  },
  {
   "cell_type": "markdown",
   "metadata": {},
   "source": [
    "## Expectation Values"
   ]
  },
  {
   "cell_type": "markdown",
   "metadata": {},
   "source": [
    "## Infinite Square-Well Potential"
   ]
  },
  {
   "cell_type": "markdown",
   "metadata": {},
   "source": [
    "## Three-Dimensional Infinite-Potential Well"
   ]
  }
 ],
 "metadata": {
  "interpreter": {
   "hash": "cd2e115bae0bd8507f53973663b16a6c8b1a6736f2a0b1c5bcd962a446a2698e"
  },
  "kernelspec": {
   "display_name": "Python 3.8.8 64-bit ('base': conda)",
   "name": "python3"
  },
  "language_info": {
   "codemirror_mode": {
    "name": "ipython",
    "version": 3
   },
   "file_extension": ".py",
   "mimetype": "text/x-python",
   "name": "python",
   "nbconvert_exporter": "python",
   "pygments_lexer": "ipython3",
   "version": "3.8.8"
  },
  "orig_nbformat": 4
 },
 "nbformat": 4,
 "nbformat_minor": 2
}
