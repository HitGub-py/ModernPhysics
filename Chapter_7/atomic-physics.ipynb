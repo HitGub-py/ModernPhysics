{
 "cells": [
  {
   "cell_type": "markdown",
   "metadata": {},
   "source": [
    "# Atomic Physics\n"
   ]
  },
  {
   "cell_type": "markdown",
   "metadata": {},
   "source": [
    "## Atomic Structure and the Periodic Table\n",
    "\n",
    "### Inert Gases\n",
    "\n",
    "### Alkalis\n",
    "\n",
    "### Alkaline Earths\n",
    "\n",
    "### Halogens\n",
    "\n",
    "### Transition Metals\n",
    "\n",
    "### Lanthanides\n",
    "\n",
    "### Actinides"
   ]
  },
  {
   "cell_type": "markdown",
   "metadata": {},
   "source": [
    "## Total Angular Momentum\n",
    "\n",
    "### Single-Electron Atoms\n",
    "\n",
    "### Many-Electron Atoms\n",
    "\n",
    "### LS Coupling\n",
    "\n",
    "### jj Coupling"
   ]
  },
  {
   "cell_type": "markdown",
   "metadata": {},
   "source": [
    "## Anomalous Zeeman Effect"
   ]
  }
 ],
 "metadata": {
  "interpreter": {
   "hash": "cd2e115bae0bd8507f53973663b16a6c8b1a6736f2a0b1c5bcd962a446a2698e"
  },
  "kernelspec": {
   "display_name": "Python 3.8.8 64-bit ('base': conda)",
   "name": "python3"
  },
  "language_info": {
   "codemirror_mode": {
    "name": "ipython",
    "version": 3
   },
   "file_extension": ".py",
   "mimetype": "text/x-python",
   "name": "python",
   "nbconvert_exporter": "python",
   "pygments_lexer": "ipython3",
   "version": "3.8.8"
  },
  "orig_nbformat": 4
 },
 "nbformat": 4,
 "nbformat_minor": 2
}
